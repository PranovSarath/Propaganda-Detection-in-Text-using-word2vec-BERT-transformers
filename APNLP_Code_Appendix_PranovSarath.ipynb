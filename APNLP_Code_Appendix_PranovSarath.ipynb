{
 "cells": [
  {
   "cell_type": "code",
   "execution_count": 1,
   "id": "soRGj6bGYlZG",
   "metadata": {
    "colab": {
     "base_uri": "https://localhost:8080/"
    },
    "executionInfo": {
     "elapsed": 21808,
     "status": "ok",
     "timestamp": 1682670088238,
     "user": {
      "displayName": "PRANOV SARATH",
      "userId": "05679883333603541894"
     },
     "user_tz": -60
    },
    "id": "soRGj6bGYlZG",
    "outputId": "cdc6cbd2-13de-4eb1-b051-121fef42c924"
   },
   "outputs": [],
   "source": [
    "#Uncomment this line if you are connecting to Google Drive to access the files\n",
    "#from google.colab import drive\n",
    "#drive.mount('/content/drive')"
   ]
  },
  {
   "cell_type": "code",
   "execution_count": 2,
   "id": "YKYP6THBZLoC",
   "metadata": {
    "colab": {
     "base_uri": "https://localhost:8080/"
    },
    "executionInfo": {
     "elapsed": 5429,
     "status": "ok",
     "timestamp": 1682547532800,
     "user": {
      "displayName": "PRANOV SARATH",
      "userId": "05679883333603541894"
     },
     "user_tz": -60
    },
    "id": "YKYP6THBZLoC",
    "outputId": "53abacd1-2c4e-431b-b058-1019e2ed9864"
   },
   "outputs": [],
   "source": [
    "#Uncomment this line and execute if you get the error that the transformers package has not been installed\n",
    "#pip install transformers"
   ]
  },
  {
   "cell_type": "code",
   "execution_count": 3,
   "id": "i3ehqK32YrUm",
   "metadata": {
    "id": "i3ehqK32YrUm"
   },
   "outputs": [],
   "source": [
    "#Code to change the current working directory to where the input files are\n",
    "import os\n",
    "#os.chdir('/content/drive/MyDrive/Sussex - MSc Data Science/Term 2/Advanced NLP/Assignment')"
   ]
  },
  {
   "cell_type": "markdown",
   "id": "048826a3",
   "metadata": {
    "id": "048826a3"
   },
   "source": [
    "# **Import Standard Libraries**"
   ]
  },
  {
   "cell_type": "code",
   "execution_count": 4,
   "id": "6e022e0c",
   "metadata": {},
   "outputs": [],
   "source": [
    "#os.environ['CUDA_VISIBLE_DEVICES'] = '1' "
   ]
  },
  {
   "cell_type": "code",
   "execution_count": 5,
   "id": "8e563bff",
   "metadata": {
    "id": "8e563bff"
   },
   "outputs": [],
   "source": [
    "import numpy as np\n",
    "import pandas as pd\n",
    "import matplotlib.pyplot as plt\n",
    "import random\n",
    "from sklearn.model_selection import train_test_split\n",
    "seed = 260758\n",
    "random.seed(seed)\n",
    "\n",
    "import nltk\n",
    "import gensim\n",
    "import gensim.downloader as api\n",
    "from sklearn.metrics import classification_report\n",
    "import torch.optim as optim\n",
    "from nltk.tokenize import word_tokenize\n",
    "from gensim.models import word2vec\n",
    "from gensim.models.word2vec import Word2Vec\n",
    "import spacy\n",
    "import string\n",
    "from sklearn import metrics\n",
    "\n",
    "import torch\n",
    "import numpy as np\n",
    "from torch import nn\n",
    "from transformers import BertTokenizer, BertModel\n",
    "from torch.optim import Adam\n",
    "from tqdm import tqdm\n",
    "import gc"
   ]
  },
  {
   "cell_type": "code",
   "execution_count": 6,
   "id": "KBhScnqCHKwu",
   "metadata": {
    "colab": {
     "base_uri": "https://localhost:8080/"
    },
    "executionInfo": {
     "elapsed": 95,
     "status": "ok",
     "timestamp": 1682547544165,
     "user": {
      "displayName": "PRANOV SARATH",
      "userId": "05679883333603541894"
     },
     "user_tz": -60
    },
    "id": "KBhScnqCHKwu",
    "outputId": "86dd0a6a-9c47-49ed-8927-a2f75f8c0f53"
   },
   "outputs": [
    {
     "name": "stderr",
     "output_type": "stream",
     "text": [
      "[nltk_data] Downloading package punkt to\n",
      "[nltk_data]     C:\\Users\\prano\\AppData\\Roaming\\nltk_data...\n",
      "[nltk_data]   Package punkt is already up-to-date!\n"
     ]
    },
    {
     "data": {
      "text/plain": [
       "True"
      ]
     },
     "execution_count": 6,
     "metadata": {},
     "output_type": "execute_result"
    }
   ],
   "source": [
    "nltk.download('punkt')"
   ]
  },
  {
   "cell_type": "code",
   "execution_count": 7,
   "id": "7fYwwG6LNODw",
   "metadata": {
    "colab": {
     "base_uri": "https://localhost:8080/"
    },
    "executionInfo": {
     "elapsed": 79,
     "status": "ok",
     "timestamp": 1682547544167,
     "user": {
      "displayName": "PRANOV SARATH",
      "userId": "05679883333603541894"
     },
     "user_tz": -60
    },
    "id": "7fYwwG6LNODw",
    "outputId": "686b396c-f766-4b93-b629-edb149b9c702"
   },
   "outputs": [],
   "source": [
    "#Set seed to ensure the code and outputs are reproducible\n",
    "torch.manual_seed(seed)\n",
    "\n",
    "#Cuda algorithms\n",
    "torch.backends.cudnn.deterministic = True "
   ]
  },
  {
   "cell_type": "code",
   "execution_count": 8,
   "id": "d0458d67",
   "metadata": {},
   "outputs": [],
   "source": [
    "#Clear CUDA cache to free up memory\n",
    "torch.cuda.empty_cache()"
   ]
  },
  {
   "cell_type": "code",
   "execution_count": 9,
   "id": "sgCUzLlcjJiH",
   "metadata": {
    "colab": {
     "base_uri": "https://localhost:8080/"
    },
    "executionInfo": {
     "elapsed": 69,
     "status": "ok",
     "timestamp": 1682547544168,
     "user": {
      "displayName": "PRANOV SARATH",
      "userId": "05679883333603541894"
     },
     "user_tz": -60
    },
    "id": "sgCUzLlcjJiH",
    "outputId": "fec0e15b-661d-45e0-cd3d-70674623b0f8"
   },
   "outputs": [
    {
     "name": "stdout",
     "output_type": "stream",
     "text": [
      "GPU acceleration enabled\n",
      "cuda\n"
     ]
    }
   ],
   "source": [
    "#Check if NVIDIA GPU is available\n",
    "#If yes, use CUDA to perform computations\n",
    "use_cuda = torch.cuda.is_available()\n",
    "\n",
    "if use_cuda:\n",
    "    print(\"GPU acceleration enabled\")\n",
    "else:\n",
    "    print(\"GPU acceleration NOT enabled. If using Colab, have you changed the runtime type and selected GPU as the hardware accelerator?\")\n",
    "\n",
    "device = torch.device(\"cuda\" if use_cuda else \"cpu\")\n",
    "print(device)"
   ]
  },
  {
   "cell_type": "markdown",
   "id": "fe7ee8a1",
   "metadata": {
    "id": "fe7ee8a1"
   },
   "source": [
    "# Read in training and validation datasets"
   ]
  },
  {
   "cell_type": "code",
   "execution_count": 10,
   "id": "bb4147bd",
   "metadata": {
    "colab": {
     "base_uri": "https://localhost:8080/",
     "height": 478
    },
    "executionInfo": {
     "elapsed": 509,
     "status": "ok",
     "timestamp": 1682547544616,
     "user": {
      "displayName": "PRANOV SARATH",
      "userId": "05679883333603541894"
     },
     "user_tz": -60
    },
    "id": "bb4147bd",
    "outputId": "f7863694-a682-4669-84ce-5f43701497f4"
   },
   "outputs": [
    {
     "name": "stdout",
     "output_type": "stream",
     "text": [
      "No. of records in the training dataset:label                2414\n",
      "tagged_in_context    2414\n",
      "dtype: int64\n"
     ]
    },
    {
     "data": {
      "text/html": [
       "<div>\n",
       "<style scoped>\n",
       "    .dataframe tbody tr th:only-of-type {\n",
       "        vertical-align: middle;\n",
       "    }\n",
       "\n",
       "    .dataframe tbody tr th {\n",
       "        vertical-align: top;\n",
       "    }\n",
       "\n",
       "    .dataframe thead th {\n",
       "        text-align: right;\n",
       "    }\n",
       "</style>\n",
       "<table border=\"1\" class=\"dataframe\">\n",
       "  <thead>\n",
       "    <tr style=\"text-align: right;\">\n",
       "      <th></th>\n",
       "      <th>label</th>\n",
       "      <th>tagged_in_context</th>\n",
       "    </tr>\n",
       "  </thead>\n",
       "  <tbody>\n",
       "    <tr>\n",
       "      <th>1068</th>\n",
       "      <td>causal_oversimplification</td>\n",
       "      <td>&lt;BOS&gt; Democrats want to delay this vote until ...</td>\n",
       "    </tr>\n",
       "    <tr>\n",
       "      <th>7</th>\n",
       "      <td>not_propaganda</td>\n",
       "      <td>&lt;BOS&gt; Kirstjen Nielsen (@SecNielsen) &lt;EOS&gt; Nov...</td>\n",
       "    </tr>\n",
       "    <tr>\n",
       "      <th>1892</th>\n",
       "      <td>causal_oversimplification</td>\n",
       "      <td>As I've said before, I don't support Kavanaugh...</td>\n",
       "    </tr>\n",
       "    <tr>\n",
       "      <th>1807</th>\n",
       "      <td>not_propaganda</td>\n",
       "      <td>&lt;BOS&gt; If the equation doesn’t come out in the ...</td>\n",
       "    </tr>\n",
       "    <tr>\n",
       "      <th>1144</th>\n",
       "      <td>repetition</td>\n",
       "      <td>We’re doing everything in &lt;BOS&gt; our &lt;EOS&gt; powe...</td>\n",
       "    </tr>\n",
       "    <tr>\n",
       "      <th>...</th>\n",
       "      <td>...</td>\n",
       "      <td>...</td>\n",
       "    </tr>\n",
       "    <tr>\n",
       "      <th>1652</th>\n",
       "      <td>not_propaganda</td>\n",
       "      <td>The outbreak of the contagious and &lt;BOS&gt; deadl...</td>\n",
       "    </tr>\n",
       "    <tr>\n",
       "      <th>1753</th>\n",
       "      <td>not_propaganda</td>\n",
       "      <td>&lt;BOS&gt; The frontal attacks have been coming not...</td>\n",
       "    </tr>\n",
       "    <tr>\n",
       "      <th>2217</th>\n",
       "      <td>not_propaganda</td>\n",
       "      <td>DB: And &lt;BOS&gt; who can forget the release &lt;EOS&gt;...</td>\n",
       "    </tr>\n",
       "    <tr>\n",
       "      <th>1721</th>\n",
       "      <td>not_propaganda</td>\n",
       "      <td>Glenn &lt;BOS&gt; Greenwald noted that the Ecuadoria...</td>\n",
       "    </tr>\n",
       "    <tr>\n",
       "      <th>1056</th>\n",
       "      <td>loaded_language</td>\n",
       "      <td>Then when Lesley is passed out, &lt;BOS&gt; I take h...</td>\n",
       "    </tr>\n",
       "  </tbody>\n",
       "</table>\n",
       "<p>2414 rows × 2 columns</p>\n",
       "</div>"
      ],
      "text/plain": [
       "                          label  \\\n",
       "1068  causal_oversimplification   \n",
       "7                not_propaganda   \n",
       "1892  causal_oversimplification   \n",
       "1807             not_propaganda   \n",
       "1144                 repetition   \n",
       "...                         ...   \n",
       "1652             not_propaganda   \n",
       "1753             not_propaganda   \n",
       "2217             not_propaganda   \n",
       "1721             not_propaganda   \n",
       "1056            loaded_language   \n",
       "\n",
       "                                      tagged_in_context  \n",
       "1068  <BOS> Democrats want to delay this vote until ...  \n",
       "7     <BOS> Kirstjen Nielsen (@SecNielsen) <EOS> Nov...  \n",
       "1892  As I've said before, I don't support Kavanaugh...  \n",
       "1807  <BOS> If the equation doesn’t come out in the ...  \n",
       "1144  We’re doing everything in <BOS> our <EOS> powe...  \n",
       "...                                                 ...  \n",
       "1652  The outbreak of the contagious and <BOS> deadl...  \n",
       "1753  <BOS> The frontal attacks have been coming not...  \n",
       "2217  DB: And <BOS> who can forget the release <EOS>...  \n",
       "1721  Glenn <BOS> Greenwald noted that the Ecuadoria...  \n",
       "1056  Then when Lesley is passed out, <BOS> I take h...  \n",
       "\n",
       "[2414 rows x 2 columns]"
      ]
     },
     "execution_count": 10,
     "metadata": {},
     "output_type": "execute_result"
    }
   ],
   "source": [
    "df_train_input = pd.read_csv('propaganda_dataset_v2/propaganda_train.tsv', sep='\\t')\n",
    "df_train_input['label'] = df_train_input['label'].str.strip()\n",
    "df_train_input['tagged_in_context'] = df_train_input['tagged_in_context'].str.strip()\n",
    "print(f'No. of records in the training dataset:{df_train_input.count()}')\n",
    "df_train_input = df_train_input.sample(frac=1)\n",
    "df_train_input"
   ]
  },
  {
   "cell_type": "code",
   "execution_count": 11,
   "id": "a9cbe5cf",
   "metadata": {
    "colab": {
     "base_uri": "https://localhost:8080/",
     "height": 478
    },
    "executionInfo": {
     "elapsed": 93,
     "status": "ok",
     "timestamp": 1682547544618,
     "user": {
      "displayName": "PRANOV SARATH",
      "userId": "05679883333603541894"
     },
     "user_tz": -60
    },
    "id": "a9cbe5cf",
    "outputId": "4a77eb35-6efe-4a3a-81e8-f92217672b71"
   },
   "outputs": [
    {
     "name": "stdout",
     "output_type": "stream",
     "text": [
      "No. of records in the validation dataset:label                580\n",
      "tagged_in_context    580\n",
      "dtype: int64\n"
     ]
    },
    {
     "data": {
      "text/html": [
       "<div>\n",
       "<style scoped>\n",
       "    .dataframe tbody tr th:only-of-type {\n",
       "        vertical-align: middle;\n",
       "    }\n",
       "\n",
       "    .dataframe tbody tr th {\n",
       "        vertical-align: top;\n",
       "    }\n",
       "\n",
       "    .dataframe thead th {\n",
       "        text-align: right;\n",
       "    }\n",
       "</style>\n",
       "<table border=\"1\" class=\"dataframe\">\n",
       "  <thead>\n",
       "    <tr style=\"text-align: right;\">\n",
       "      <th></th>\n",
       "      <th>label</th>\n",
       "      <th>tagged_in_context</th>\n",
       "    </tr>\n",
       "  </thead>\n",
       "  <tbody>\n",
       "    <tr>\n",
       "      <th>290</th>\n",
       "      <td>loaded_language</td>\n",
       "      <td>At this point, continued pleading for a Bergog...</td>\n",
       "    </tr>\n",
       "    <tr>\n",
       "      <th>449</th>\n",
       "      <td>flag_waving</td>\n",
       "      <td>“It’s time for our leaders in Washington to fo...</td>\n",
       "    </tr>\n",
       "    <tr>\n",
       "      <th>131</th>\n",
       "      <td>name_calling,labeling</td>\n",
       "      <td>Bob Mueller is totally conflicted, and &lt;BOS&gt; h...</td>\n",
       "    </tr>\n",
       "    <tr>\n",
       "      <th>308</th>\n",
       "      <td>causal_oversimplification</td>\n",
       "      <td>&lt;BOS&gt; If you think Mrs. Ford is ignorant of th...</td>\n",
       "    </tr>\n",
       "    <tr>\n",
       "      <th>487</th>\n",
       "      <td>not_propaganda</td>\n",
       "      <td>Why are we now in this very sad &lt;BOS&gt; situatio...</td>\n",
       "    </tr>\n",
       "    <tr>\n",
       "      <th>...</th>\n",
       "      <td>...</td>\n",
       "      <td>...</td>\n",
       "    </tr>\n",
       "    <tr>\n",
       "      <th>320</th>\n",
       "      <td>not_propaganda</td>\n",
       "      <td>“Let us beg forgiveness for our own sins and t...</td>\n",
       "    </tr>\n",
       "    <tr>\n",
       "      <th>225</th>\n",
       "      <td>doubt</td>\n",
       "      <td>&lt;BOS&gt; The US Is Blatantly Telling Lies &lt;EOS&gt;</td>\n",
       "    </tr>\n",
       "    <tr>\n",
       "      <th>194</th>\n",
       "      <td>not_propaganda</td>\n",
       "      <td>The woman’s lifeless body can be seen being dr...</td>\n",
       "    </tr>\n",
       "    <tr>\n",
       "      <th>535</th>\n",
       "      <td>not_propaganda</td>\n",
       "      <td>Jesus said, \"Think not that I am come to destr...</td>\n",
       "    </tr>\n",
       "    <tr>\n",
       "      <th>404</th>\n",
       "      <td>not_propaganda</td>\n",
       "      <td>This is a favorable time for the Church to con...</td>\n",
       "    </tr>\n",
       "  </tbody>\n",
       "</table>\n",
       "<p>580 rows × 2 columns</p>\n",
       "</div>"
      ],
      "text/plain": [
       "                         label  \\\n",
       "290            loaded_language   \n",
       "449                flag_waving   \n",
       "131      name_calling,labeling   \n",
       "308  causal_oversimplification   \n",
       "487             not_propaganda   \n",
       "..                         ...   \n",
       "320             not_propaganda   \n",
       "225                      doubt   \n",
       "194             not_propaganda   \n",
       "535             not_propaganda   \n",
       "404             not_propaganda   \n",
       "\n",
       "                                     tagged_in_context  \n",
       "290  At this point, continued pleading for a Bergog...  \n",
       "449  “It’s time for our leaders in Washington to fo...  \n",
       "131  Bob Mueller is totally conflicted, and <BOS> h...  \n",
       "308  <BOS> If you think Mrs. Ford is ignorant of th...  \n",
       "487  Why are we now in this very sad <BOS> situatio...  \n",
       "..                                                 ...  \n",
       "320  “Let us beg forgiveness for our own sins and t...  \n",
       "225       <BOS> The US Is Blatantly Telling Lies <EOS>  \n",
       "194  The woman’s lifeless body can be seen being dr...  \n",
       "535  Jesus said, \"Think not that I am come to destr...  \n",
       "404  This is a favorable time for the Church to con...  \n",
       "\n",
       "[580 rows x 2 columns]"
      ]
     },
     "execution_count": 11,
     "metadata": {},
     "output_type": "execute_result"
    }
   ],
   "source": [
    "df_validation = pd.read_csv('propaganda_dataset_v2/propaganda_val.tsv', sep='\\t')\n",
    "df_validation['label'] = df_validation['label'].str.strip()\n",
    "df_validation['tagged_in_context'] = df_validation['tagged_in_context'].str.strip()\n",
    "df_validation = df_validation.sample(frac=1)\n",
    "print(f'No. of records in the validation dataset:{df_validation.count()}')\n",
    "df_validation"
   ]
  },
  {
   "cell_type": "markdown",
   "id": "2a63625d",
   "metadata": {
    "id": "2a63625d"
   },
   "source": [
    "For binary classification, we do not need the specific type of propangada label. Instead we need to just distinguish if its an instance of propaganda or not. I will create a new field to be used for the binary classification task."
   ]
  },
  {
   "cell_type": "code",
   "execution_count": 12,
   "id": "2d5a294b",
   "metadata": {
    "id": "2d5a294b"
   },
   "outputs": [],
   "source": [
    "df_train_input['binary_label'] = np.where(df_train_input['label']!='not_propaganda', 'propaganda', df_train_input['label'])\n",
    "df_validation['binary_label'] = np.where(df_validation['label']!='not_propaganda', 'propaganda', df_validation['label'])"
   ]
  },
  {
   "cell_type": "markdown",
   "id": "4ba0904c",
   "metadata": {},
   "source": [
    "## **Check the distribution of Training data**"
   ]
  },
  {
   "cell_type": "code",
   "execution_count": 13,
   "id": "ThGevZ-bY886",
   "metadata": {
    "colab": {
     "base_uri": "https://localhost:8080/",
     "height": 363
    },
    "executionInfo": {
     "elapsed": 79,
     "status": "ok",
     "timestamp": 1682547544620,
     "user": {
      "displayName": "PRANOV SARATH",
      "userId": "05679883333603541894"
     },
     "user_tz": -60
    },
    "id": "ThGevZ-bY886",
    "outputId": "7e538f97-a8a7-4501-8ef9-5e832326b1dd"
   },
   "outputs": [
    {
     "data": {
      "text/plain": [
       "<Axes: xlabel='label'>"
      ]
     },
     "execution_count": 13,
     "metadata": {},
     "output_type": "execute_result"
    },
    {
     "data": {
      "image/png": "[encoded data removed]",
      "text/plain": [
       "<Figure size 640x480 with 1 Axes>"
      ]
     },
     "metadata": {},
     "output_type": "display_data"
    }
   ],
   "source": [
    "df_train_input.groupby('label').count().plot(kind='bar')"
   ]
  },
  {
   "cell_type": "code",
   "execution_count": 14,
   "id": "Vd8hcDEOYAWn",
   "metadata": {
    "colab": {
     "base_uri": "https://localhost:8080/",
     "height": 143
    },
    "executionInfo": {
     "elapsed": 76,
     "status": "ok",
     "timestamp": 1682547544621,
     "user": {
      "displayName": "PRANOV SARATH",
      "userId": "05679883333603541894"
     },
     "user_tz": -60
    },
    "id": "Vd8hcDEOYAWn",
    "outputId": "c22d1b35-ba33-4cc3-d3d0-9209693f9fa5"
   },
   "outputs": [
    {
     "data": {
      "text/html": [
       "<div>\n",
       "<style scoped>\n",
       "    .dataframe tbody tr th:only-of-type {\n",
       "        vertical-align: middle;\n",
       "    }\n",
       "\n",
       "    .dataframe tbody tr th {\n",
       "        vertical-align: top;\n",
       "    }\n",
       "\n",
       "    .dataframe thead th {\n",
       "        text-align: right;\n",
       "    }\n",
       "</style>\n",
       "<table border=\"1\" class=\"dataframe\">\n",
       "  <thead>\n",
       "    <tr style=\"text-align: right;\">\n",
       "      <th></th>\n",
       "      <th>label</th>\n",
       "      <th>tagged_in_context</th>\n",
       "    </tr>\n",
       "    <tr>\n",
       "      <th>binary_label</th>\n",
       "      <th></th>\n",
       "      <th></th>\n",
       "    </tr>\n",
       "  </thead>\n",
       "  <tbody>\n",
       "    <tr>\n",
       "      <th>not_propaganda</th>\n",
       "      <td>1191</td>\n",
       "      <td>1191</td>\n",
       "    </tr>\n",
       "    <tr>\n",
       "      <th>propaganda</th>\n",
       "      <td>1223</td>\n",
       "      <td>1223</td>\n",
       "    </tr>\n",
       "  </tbody>\n",
       "</table>\n",
       "</div>"
      ],
      "text/plain": [
       "                label  tagged_in_context\n",
       "binary_label                            \n",
       "not_propaganda   1191               1191\n",
       "propaganda       1223               1223"
      ]
     },
     "execution_count": 14,
     "metadata": {},
     "output_type": "execute_result"
    }
   ],
   "source": [
    "df_train_input.groupby('binary_label').count()"
   ]
  },
  {
   "cell_type": "code",
   "execution_count": 15,
   "id": "83d689ee",
   "metadata": {},
   "outputs": [
    {
     "data": {
      "text/plain": [
       "<Axes: xlabel='label'>"
      ]
     },
     "execution_count": 15,
     "metadata": {},
     "output_type": "execute_result"
    },
    {
     "data": {
      "image/png": "[encoded data removed]",
      "text/plain": [
       "<Figure size 640x480 with 1 Axes>"
      ]
     },
     "metadata": {},
     "output_type": "display_data"
    }
   ],
   "source": [
    "df_validation.groupby('label').count().plot(kind='bar')"
   ]
  },
  {
   "cell_type": "markdown",
   "id": "cHidNIH5YrAx",
   "metadata": {
    "id": "cHidNIH5YrAx"
   },
   "source": [
    "The training dataset is balanced when we consider the binary classification task (Task 1). This is a binary classification task since we only have to predict if the text belongs to the class - 'propaganda' or 'not_propaganda', i.e. only 2 distinct outputs.\n",
    "\n",
    "For multiclass classification (Task 2), the dataset is balanced because we only have to consider text containing propaganda and predict the type of propaganda in the text. Therefore, we can remove the 'not_propaganda' rows which makes the dataset balanced.\n",
    "\n",
    "\n",
    "I will now split the training dataset into a separate train and test dataset. The testing dataset will contain 20% of the data currently in the training class."
   ]
  },
  {
   "cell_type": "code",
   "execution_count": 16,
   "id": "4e3b439b",
   "metadata": {
    "colab": {
     "base_uri": "https://localhost:8080/",
     "height": 423
    },
    "executionInfo": {
     "elapsed": 74,
     "status": "ok",
     "timestamp": 1682547544622,
     "user": {
      "displayName": "PRANOV SARATH",
      "userId": "05679883333603541894"
     },
     "user_tz": -60
    },
    "id": "4e3b439b",
    "outputId": "0bf327b3-290c-48f7-fb6c-76febf0a61d0"
   },
   "outputs": [
    {
     "data": {
      "text/html": [
       "<div>\n",
       "<style scoped>\n",
       "    .dataframe tbody tr th:only-of-type {\n",
       "        vertical-align: middle;\n",
       "    }\n",
       "\n",
       "    .dataframe tbody tr th {\n",
       "        vertical-align: top;\n",
       "    }\n",
       "\n",
       "    .dataframe thead th {\n",
       "        text-align: right;\n",
       "    }\n",
       "</style>\n",
       "<table border=\"1\" class=\"dataframe\">\n",
       "  <thead>\n",
       "    <tr style=\"text-align: right;\">\n",
       "      <th></th>\n",
       "      <th>label</th>\n",
       "      <th>tagged_in_context</th>\n",
       "      <th>binary_label</th>\n",
       "    </tr>\n",
       "  </thead>\n",
       "  <tbody>\n",
       "    <tr>\n",
       "      <th>2057</th>\n",
       "      <td>doubt</td>\n",
       "      <td>Las Vegas police said Friday that the gunman w...</td>\n",
       "      <td>propaganda</td>\n",
       "    </tr>\n",
       "    <tr>\n",
       "      <th>2161</th>\n",
       "      <td>not_propaganda</td>\n",
       "      <td>Murillo wrote at the outset of the lengthy &lt;BO...</td>\n",
       "      <td>not_propaganda</td>\n",
       "    </tr>\n",
       "    <tr>\n",
       "      <th>1640</th>\n",
       "      <td>not_propaganda</td>\n",
       "      <td>If &lt;BOS&gt; they are aware that the Church has up...</td>\n",
       "      <td>not_propaganda</td>\n",
       "    </tr>\n",
       "    <tr>\n",
       "      <th>920</th>\n",
       "      <td>not_propaganda</td>\n",
       "      <td>The admission of public adulterers in “second ...</td>\n",
       "      <td>not_propaganda</td>\n",
       "    </tr>\n",
       "    <tr>\n",
       "      <th>1599</th>\n",
       "      <td>exaggeration,minimisation</td>\n",
       "      <td>In case Kim didn’t remember the dire fate of I...</td>\n",
       "      <td>propaganda</td>\n",
       "    </tr>\n",
       "    <tr>\n",
       "      <th>...</th>\n",
       "      <td>...</td>\n",
       "      <td>...</td>\n",
       "      <td>...</td>\n",
       "    </tr>\n",
       "    <tr>\n",
       "      <th>2128</th>\n",
       "      <td>exaggeration,minimisation</td>\n",
       "      <td>&lt;BOS&gt; Gun Control Is Now Truly Impossible &lt;EOS&gt;</td>\n",
       "      <td>propaganda</td>\n",
       "    </tr>\n",
       "    <tr>\n",
       "      <th>1224</th>\n",
       "      <td>causal_oversimplification</td>\n",
       "      <td>&lt;BOS&gt; These actions, committed by more than a ...</td>\n",
       "      <td>propaganda</td>\n",
       "    </tr>\n",
       "    <tr>\n",
       "      <th>600</th>\n",
       "      <td>not_propaganda</td>\n",
       "      <td>With the lifting of the nuclear-related sancti...</td>\n",
       "      <td>not_propaganda</td>\n",
       "    </tr>\n",
       "    <tr>\n",
       "      <th>845</th>\n",
       "      <td>loaded_language</td>\n",
       "      <td>The sum of all this has been, as in many other...</td>\n",
       "      <td>propaganda</td>\n",
       "    </tr>\n",
       "    <tr>\n",
       "      <th>14</th>\n",
       "      <td>repetition</td>\n",
       "      <td>Trump has expelled &lt;BOS&gt; more &lt;EOS&gt; Russian di...</td>\n",
       "      <td>propaganda</td>\n",
       "    </tr>\n",
       "  </tbody>\n",
       "</table>\n",
       "<p>483 rows × 3 columns</p>\n",
       "</div>"
      ],
      "text/plain": [
       "                          label  \\\n",
       "2057                      doubt   \n",
       "2161             not_propaganda   \n",
       "1640             not_propaganda   \n",
       "920              not_propaganda   \n",
       "1599  exaggeration,minimisation   \n",
       "...                         ...   \n",
       "2128  exaggeration,minimisation   \n",
       "1224  causal_oversimplification   \n",
       "600              not_propaganda   \n",
       "845             loaded_language   \n",
       "14                   repetition   \n",
       "\n",
       "                                      tagged_in_context    binary_label  \n",
       "2057  Las Vegas police said Friday that the gunman w...      propaganda  \n",
       "2161  Murillo wrote at the outset of the lengthy <BO...  not_propaganda  \n",
       "1640  If <BOS> they are aware that the Church has up...  not_propaganda  \n",
       "920   The admission of public adulterers in “second ...  not_propaganda  \n",
       "1599  In case Kim didn’t remember the dire fate of I...      propaganda  \n",
       "...                                                 ...             ...  \n",
       "2128    <BOS> Gun Control Is Now Truly Impossible <EOS>      propaganda  \n",
       "1224  <BOS> These actions, committed by more than a ...      propaganda  \n",
       "600   With the lifting of the nuclear-related sancti...  not_propaganda  \n",
       "845   The sum of all this has been, as in many other...      propaganda  \n",
       "14    Trump has expelled <BOS> more <EOS> Russian di...      propaganda  \n",
       "\n",
       "[483 rows x 3 columns]"
      ]
     },
     "execution_count": 16,
     "metadata": {},
     "output_type": "execute_result"
    }
   ],
   "source": [
    "#Split the data into train and test sets.\n",
    "df_train, df_test = train_test_split(df_train_input, test_size=0.2, random_state=seed)\n",
    "df_test"
   ]
  },
  {
   "cell_type": "markdown",
   "id": "576273f6",
   "metadata": {
    "id": "576273f6"
   },
   "source": [
    "# **Task 1 - Binary Classification**"
   ]
  },
  {
   "cell_type": "code",
   "execution_count": 17,
   "id": "20fmj69qLxz_",
   "metadata": {
    "id": "20fmj69qLxz_"
   },
   "outputs": [],
   "source": [
    "#Select the required columns\n",
    "df_train_binary_classification = df_train[['tagged_in_context', 'binary_label']].copy()\n",
    "df_test_binary_classification = df_test[['tagged_in_context', 'binary_label']].copy()\n",
    "df_validation_binary_classification = df_validation[['tagged_in_context', 'binary_label']].copy()"
   ]
  },
  {
   "cell_type": "code",
   "execution_count": 18,
   "id": "49be92c6",
   "metadata": {
    "colab": {
     "base_uri": "https://localhost:8080/"
    },
    "executionInfo": {
     "elapsed": 71,
     "status": "ok",
     "timestamp": 1682547544625,
     "user": {
      "displayName": "PRANOV SARATH",
      "userId": "05679883333603541894"
     },
     "user_tz": -60
    },
    "id": "49be92c6",
    "outputId": "847fa0cc-da0a-4c73-c051-7a41398761ce"
   },
   "outputs": [
    {
     "data": {
      "text/plain": [
       "{'not_propaganda': 0, 'propaganda': 1}"
      ]
     },
     "execution_count": 18,
     "metadata": {},
     "output_type": "execute_result"
    }
   ],
   "source": [
    "#Binary Classification labels\n",
    "binary_labels = {label:i for i,label in enumerate(df_train_binary_classification['binary_label'].sort_values().unique().tolist())}\n",
    "binary_labels"
   ]
  },
  {
   "cell_type": "code",
   "execution_count": 19,
   "id": "c63740b1",
   "metadata": {
    "colab": {
     "base_uri": "https://localhost:8080/"
    },
    "executionInfo": {
     "elapsed": 62,
     "status": "ok",
     "timestamp": 1682547544627,
     "user": {
      "displayName": "PRANOV SARATH",
      "userId": "05679883333603541894"
     },
     "user_tz": -60
    },
    "id": "c63740b1",
    "outputId": "30b71a5f-b1bd-4245-8770-39fcf3b0467c"
   },
   "outputs": [
    {
     "data": {
      "text/plain": [
       "{0: 'not_propaganda', 1: 'propaganda'}"
      ]
     },
     "execution_count": 19,
     "metadata": {},
     "output_type": "execute_result"
    }
   ],
   "source": [
    "#Build a reverse index dictionary for easy lookup.\n",
    "reverse_index_binary_label ={v:k for (k,v) in binary_labels.items()}\n",
    "reverse_index_binary_label"
   ]
  },
  {
   "cell_type": "markdown",
   "id": "510a9a7b",
   "metadata": {},
   "source": [
    "**For Task 1 - I will be creating 2 text classifiers**\n",
    "\n",
    "**1) GloVe Binary Classifier -** This classifier will use the pretained glove-wiki-gigaword-300 word embeddings to encode the\n",
    "text strings as a sentence vector, which will then be passed onto a simple 2-layer Neural Network to perform the classification\n",
    "\n",
    "**2) BERT Binary Classifier** - This classifier will use the pretrained 'bert-base-uncased' model to convert the strings into word embeddings which will then be fed into a simple Neural Network for binary classification"
   ]
  },
  {
   "cell_type": "markdown",
   "id": "RdG0bIbkBJE8",
   "metadata": {
    "id": "RdG0bIbkBJE8"
   },
   "source": [
    "## **Task 1.1 GloVe Classifier**\n",
    "\n"
   ]
  },
  {
   "cell_type": "code",
   "execution_count": 20,
   "id": "u359B--6IXPR",
   "metadata": {
    "colab": {
     "base_uri": "https://localhost:8080/"
    },
    "executionInfo": {
     "elapsed": 55,
     "status": "ok",
     "timestamp": 1682547544628,
     "user": {
      "displayName": "PRANOV SARATH",
      "userId": "05679883333603541894"
     },
     "user_tz": -60
    },
    "id": "u359B--6IXPR",
    "outputId": "b358a67f-43ba-4b29-d5c3-86382496ae74"
   },
   "outputs": [
    {
     "name": "stdout",
     "output_type": "stream",
     "text": [
      "['fasttext-wiki-news-subwords-300', 'conceptnet-numberbatch-17-06-300', 'word2vec-ruscorpora-300', 'word2vec-google-news-300', 'glove-wiki-gigaword-50', 'glove-wiki-gigaword-100', 'glove-wiki-gigaword-200', 'glove-wiki-gigaword-300', 'glove-twitter-25', 'glove-twitter-50', 'glove-twitter-100', 'glove-twitter-200', '__testing_word2vec-matrix-synopsis']\n"
     ]
    }
   ],
   "source": [
    "#Print out the list of pre-trained glove/word2vec embeddings.\n",
    "print(list(gensim.downloader.info()['models'].keys()))"
   ]
  },
  {
   "cell_type": "code",
   "execution_count": 21,
   "id": "jB2QOknNItuO",
   "metadata": {
    "id": "jB2QOknNItuO"
   },
   "outputs": [],
   "source": [
    "wv = api.load('glove-wiki-gigaword-300')"
   ]
  },
  {
   "cell_type": "code",
   "execution_count": 22,
   "id": "36e2cc13",
   "metadata": {},
   "outputs": [],
   "source": [
    "#If the code throws an error due to the 'en_core_web_sm' package being unavailable on your system/Google Colab, uncomment this code and run\n",
    "#!python -m spacy download en_core_web_sm"
   ]
  },
  {
   "cell_type": "code",
   "execution_count": 23,
   "id": "UoxIyFF_Q4i5",
   "metadata": {
    "id": "UoxIyFF_Q4i5"
   },
   "outputs": [],
   "source": [
    "nlp = spacy.load(\"en_core_web_sm\")\n",
    "stop_words = nlp.Defaults.stop_words\n",
    "punctuations = string.punctuation\n",
    "\n",
    "\n",
    "def sentenceVector(sentence):\n",
    "    \"\"\"\n",
    "    This is a function to loop over every word in a given sentence and find out the vector representation of the word \n",
    "    in the glove-wiki-gigaword-300 pre-trained vector.\n",
    "    \n",
    "    Input Parameters: \n",
    "    sentence: A list of words in a given sentence\n",
    "    \n",
    "    Output Parameters:\n",
    "    vectorResult: The vector representation of the string.\n",
    "    \"\"\"\n",
    "    vectorSize = wv.vector_size\n",
    "    vectorResult = np.zeros(vectorSize)\n",
    "    counter = 1\n",
    "    for word in sentence:\n",
    "        if word in wv:\n",
    "            counter += 1\n",
    "            vectorResult += wv[word]\n",
    "    vectorResult = vectorResult / counter\n",
    "    return vectorResult\n",
    "\n",
    "def spacyTokenizer(sentence):\n",
    "    \"\"\"\n",
    "    This is a function to tokenize the words in a given sentence by using the pre-trained 'en_core_web_sm' model,\n",
    "    lemmatize each token and filter out the stopwords and punctuations in the sentence.\n",
    "    \n",
    "    Input Parameters:\n",
    "    sentence: A list of words or a string contained a list of words\n",
    "    \n",
    "    Output Parameters: \n",
    "    filteredTokens: Tokenized, lemmatized and filtered list of tokens.\n",
    "    \"\"\"\n",
    "    # Load the pre-trained spaCy model\n",
    "    doc = nlp(sentence)\n",
    "\n",
    "    # Lemmatize each token and convert each token into lowercase\n",
    "    lemmatizedTokens = [word.lemma_.lower().strip() for word in doc]\n",
    "\n",
    "    # Remove stop words and punctuations\n",
    "    filteredTokens = [word for word in lemmatizedTokens if word not in stop_words and word not in punctuations]\n",
    "\n",
    "    # Return preprocessed list of tokens\n",
    "    return filteredTokens"
   ]
  },
  {
   "cell_type": "code",
   "execution_count": 24,
   "id": "43d13f53",
   "metadata": {},
   "outputs": [],
   "source": [
    "#Code for a Dataset class\n",
    "#Adapted from the Advanced NLP Lab 6 Solutions Notebook\n",
    "class GloveEmbeddedBinaryDataset(torch.utils.data.Dataset):\n",
    "    \"\"\"\n",
    "    This class defines a Dataset that will be used to load the prepare the data for training, validation and testing\n",
    "    \"\"\"\n",
    "    def __init__(self, df, label_dict, column='tagged_in_context'):\n",
    "        self.labels = [label_dict[label] for label in df['binary_label']]\n",
    "        self.texts = [torch.from_numpy(np.array(sentenceVector(spacyTokenizer(text))).astype(np.float32)) for text in df[column]]\n",
    "        \n",
    "    def classes(self):\n",
    "        return self.labels\n",
    "    \n",
    "    def __len__(self):\n",
    "        return len(self.labels)\n",
    "    \n",
    "    def get_batch_labels(self, idx):\n",
    "        return np.array(self.labels[idx])\n",
    "    \n",
    "    def get_batch_texts(self, idx):\n",
    "        return self.texts[idx]\n",
    "    \n",
    "    def __getitem__(self, idx):\n",
    "        batch_texts = self.get_batch_texts(idx)\n",
    "        batch_y = self.get_batch_labels(idx)\n",
    "        \n",
    "        return batch_texts, batch_y"
   ]
  },
  {
   "cell_type": "code",
   "execution_count": 25,
   "id": "754e3c8f",
   "metadata": {},
   "outputs": [],
   "source": [
    "#Load the training, validation and testing datasets\n",
    "glove_binary_training_df = GloveEmbeddedBinaryDataset(df_train_binary_classification, binary_labels)\n",
    "glove_binary_testing_df = GloveEmbeddedBinaryDataset(df_test_binary_classification, binary_labels)\n",
    "glove_binary_validation_df = GloveEmbeddedBinaryDataset(df_validation_binary_classification, binary_labels)"
   ]
  },
  {
   "cell_type": "code",
   "execution_count": 26,
   "id": "6e823046",
   "metadata": {},
   "outputs": [],
   "source": [
    "# Define the neural network architecture\n",
    "#Adapted from the Advanced NLP Lab 6 Solutions Notebook\n",
    "class BinaryClassifierNet(nn.Module):\n",
    "    \"\"\"\n",
    "    Code adapted from Advanced NLP Week 6 Lab solutions.\n",
    "    This class will define the structure of the neural network used for classification.\n",
    "    It also defines how the output from one layer will be propagated to the next.\n",
    "    \n",
    "    Input Parameters:\n",
    "    input_size: The size of the input data\n",
    "    hidden_size: The number of hidden layers to be defined in the Neural Network architecture.\n",
    "    output_size: The expected number of outputs, labels in the dataset.\n",
    "    \"\"\"\n",
    "    def __init__(self, input_size, hidden_size, output_size):\n",
    "        super(BinaryClassifierNet, self).__init__()\n",
    "        self.fc1 = nn.Linear(input_size, hidden_size)\n",
    "        self.fc2 = nn.Linear(hidden_size, output_size)\n",
    "        self.relu = nn.ReLU()\n",
    "        self.dropout = nn.Dropout(0.3)\n",
    "        \n",
    "    def forward(self, x):\n",
    "        x = self.fc1(x)\n",
    "        x = self.relu(x)\n",
    "        x = self.dropout(x)\n",
    "        x = self.fc2(x)\n",
    "        #x = nn.functional.sigmoid(x)\n",
    "        return x"
   ]
  },
  {
   "cell_type": "code",
   "execution_count": 27,
   "id": "3ef3cad9",
   "metadata": {},
   "outputs": [],
   "source": [
    "#Create a GloVe Binary text classification model for propaganda detection.\n",
    "INPUT_SIZE = 300\n",
    "HIDDEN_SIZE = 150\n",
    "OUTPUT_SIZE = 2\n",
    "\n",
    "gloveBinaryClassifier = BinaryClassifierNet(INPUT_SIZE, HIDDEN_SIZE, OUTPUT_SIZE)"
   ]
  },
  {
   "cell_type": "code",
   "execution_count": 28,
   "id": "f5cb7d6b",
   "metadata": {},
   "outputs": [],
   "source": [
    "#Adapted from the Advanced NLP Lab 6 Solutions Notebook\n",
    "def train_GloveBinaryClassifier(model, train_data,val_data,learning_rate,epochs):\n",
    "    \"\"\"\n",
    "    Adapted from the Advanced NLP Lab 6 Solutions Notebook\n",
    "    This function is responsible for training the GloVeBinaryClassifier on the input data. \n",
    "    This will orchestrate loss calculation, backpropagation, evaluation, learning rate\n",
    "    \n",
    "    Input Parameters:\n",
    "    model: The instance of the model class to be used for training\n",
    "    train_data: The training 'Dataset' (instance) to be used for training the model\n",
    "    val_data: The validation 'Dataset' (instance) to be used for model validation.\n",
    "    learning_rate: The value that specifies how the model parameters are updated with each iteration\n",
    "    epochs: The number of iterations to be performed during training.\n",
    "    \n",
    "    Outputs:\n",
    "    None\n",
    "    Prints the Training iteration, training loss and validation loss\n",
    "    \"\"\"\n",
    "    \n",
    "    train_dataloader=torch.utils.data.DataLoader(train_data,batch_size=2,shuffle=True)\n",
    "    val_dataloader=torch.utils.data.DataLoader(val_data,batch_size=2)\n",
    "    \n",
    "    use_cuda=torch.cuda.is_available()\n",
    "    device=torch.device(\"cuda\" if use_cuda else \"cpu\")\n",
    "    \n",
    "    criterion=nn.CrossEntropyLoss()\n",
    "    optimizer=Adam(model.parameters(),lr=learning_rate)\n",
    "    \n",
    "    if use_cuda:\n",
    "        model=model.cuda()\n",
    "        criterion=criterion.cuda()\n",
    "        \n",
    "    for epoch_num in range(epochs):\n",
    "        total_acc_train=0\n",
    "        total_loss_train=0\n",
    "        model.train()\n",
    "        for train_input,train_label in tqdm(train_dataloader):\n",
    "            \n",
    "            train_input = train_input.cuda()\n",
    "            train_label = train_label.cuda()\n",
    "            output=model(train_input.cuda())\n",
    "            \n",
    "            batch_loss=criterion(output,train_label.long())\n",
    "            total_loss_train +=batch_loss.item()\n",
    "            \n",
    "            acc=(output.argmax(dim=1)==train_label).sum().item()\n",
    "            total_acc_train+=acc\n",
    "            \n",
    "            model.zero_grad()\n",
    "            batch_loss.backward()\n",
    "            optimizer.step()\n",
    "            \n",
    "        total_acc_val=0\n",
    "        total_loss_val=0\n",
    "        model.eval()\n",
    "        with torch.no_grad():\n",
    "            for val_input,val_label in val_dataloader:\n",
    "                \n",
    "                val_input = val_input.cuda()\n",
    "                val_label = val_label.cuda()\n",
    "                \n",
    "                output=model(val_input)\n",
    "                \n",
    "                batch_loss=criterion(output,val_label.long())\n",
    "                \n",
    "                total_loss_val+=batch_loss.item()\n",
    "                \n",
    "                acc=(output.argmax(dim=1)==val_label).sum().item()\n",
    "                total_acc_val+=acc\n",
    "                \n",
    "        print(f'Epochs: {epoch_num+1} | Train Loss: {total_loss_train / len(train_data):.3f} | Train Accuracy: {total_acc_train/len(train_data):.3f}')\n",
    "        print(f'Val loss: {total_loss_val/len(val_data):.3f} | Val Accuracy: {total_acc_val / len(val_data):.3f}')    "
   ]
  },
  {
   "cell_type": "code",
   "execution_count": 29,
   "id": "c912b885",
   "metadata": {},
   "outputs": [],
   "source": [
    "#Adapted from the Advanced NLP Lab 6 Solutions Notebook\n",
    "batchsize=4\n",
    "def evaluate_GloveBinaryClassifier(model,test_dataset,batchsize=4):\n",
    "    \"\"\"\n",
    "    Code adapted from Advanced NLP Week 6 Lab Solutions\n",
    "    This function is responsible for evaluating the model on previously unseen test data(data not used in training/validation)\n",
    "    \n",
    "    Input Parameters:\n",
    "    model: The instance of the model class for which evaluation needs to be performed.\n",
    "    test_dataset: The test dataset to be used for testing out to use to perform evaluation of the model\n",
    "    \n",
    "    Outputs:\n",
    "    predictions: An array of tensors containing the predictions of the model for each data point in the training dataset\n",
    "    acc: The total accuracy of the model.\n",
    "    \"\"\"\n",
    "    model.eval()\n",
    "    test_dataloader=torch.utils.data.DataLoader(test_dataset,batch_size=batchsize)\n",
    "    \n",
    "    use_cuda=torch.cuda.is_available()\n",
    "    device=torch.device(\"cuda\" if use_cuda else \"cpu\")\n",
    "    \n",
    "    if use_cuda:\n",
    "        model=model.cuda()\n",
    "        \n",
    "    total_acc_test=0\n",
    "    with torch.no_grad():\n",
    "        count=0\n",
    "        predictions=[]\n",
    "        for test_input,test_label in tqdm(test_dataloader):\n",
    "            count+=batchsize\n",
    "            test_input=test_input.to(device)\n",
    "            test_label=test_label.to(device)\n",
    "            output=model(test_input)\n",
    "            #print(output.argmax(dim=1),test_label)\n",
    "            predictions.append(output.argmax(dim=1))  #save the prediction for further analysis\n",
    "            acc=(output.argmax(dim=1)==test_label).sum().item()\n",
    "            \n",
    "            total_acc_test+=acc\n",
    "            if count%100==0:\n",
    "                print(f'Accuracy so far = {total_acc_test/count: .3f}')\n",
    "            \n",
    "    print(f'Test accuracy: {total_acc_test/len(test_dataset): .3f}')\n",
    "    return predictions, (total_acc_test/len(test_dataset))"
   ]
  },
  {
   "cell_type": "code",
   "execution_count": 30,
   "id": "48a33831",
   "metadata": {},
   "outputs": [],
   "source": [
    "#Instantiate the GloVe based binary classifier.\n",
    "EPOCHS=5\n",
    "LR=1e-04\n",
    "gloveBinaryClassifier = BinaryClassifierNet(INPUT_SIZE, HIDDEN_SIZE, OUTPUT_SIZE)"
   ]
  },
  {
   "cell_type": "code",
   "execution_count": 31,
   "id": "1ee542a7",
   "metadata": {},
   "outputs": [
    {
     "name": "stderr",
     "output_type": "stream",
     "text": [
      "100%|██████████| 966/966 [00:07<00:00, 133.51it/s]\n"
     ]
    },
    {
     "name": "stdout",
     "output_type": "stream",
     "text": [
      "Epochs: 1 | Train Loss: 0.331 | Train Accuracy: 0.649\n",
      "Val loss: 0.314 | Val Accuracy: 0.700\n"
     ]
    },
    {
     "name": "stderr",
     "output_type": "stream",
     "text": [
      "100%|██████████| 966/966 [00:01<00:00, 537.48it/s]\n"
     ]
    },
    {
     "name": "stdout",
     "output_type": "stream",
     "text": [
      "Epochs: 2 | Train Loss: 0.296 | Train Accuracy: 0.708\n",
      "Val loss: 0.296 | Val Accuracy: 0.695\n"
     ]
    },
    {
     "name": "stderr",
     "output_type": "stream",
     "text": [
      "100%|██████████| 966/966 [00:01<00:00, 528.41it/s]\n"
     ]
    },
    {
     "name": "stdout",
     "output_type": "stream",
     "text": [
      "Epochs: 3 | Train Loss: 0.280 | Train Accuracy: 0.725\n",
      "Val loss: 0.290 | Val Accuracy: 0.705\n"
     ]
    },
    {
     "name": "stderr",
     "output_type": "stream",
     "text": [
      "100%|██████████| 966/966 [00:01<00:00, 537.60it/s]\n"
     ]
    },
    {
     "name": "stdout",
     "output_type": "stream",
     "text": [
      "Epochs: 4 | Train Loss: 0.272 | Train Accuracy: 0.729\n",
      "Val loss: 0.290 | Val Accuracy: 0.709\n"
     ]
    },
    {
     "name": "stderr",
     "output_type": "stream",
     "text": [
      "100%|██████████| 966/966 [00:01<00:00, 556.82it/s]\n"
     ]
    },
    {
     "name": "stdout",
     "output_type": "stream",
     "text": [
      "Epochs: 5 | Train Loss: 0.267 | Train Accuracy: 0.735\n",
      "Val loss: 0.283 | Val Accuracy: 0.721\n"
     ]
    }
   ],
   "source": [
    "#Train the GloveBinaryClassifier\n",
    "train_GloveBinaryClassifier(gloveBinaryClassifier,glove_binary_training_df,glove_binary_validation_df,LR,EPOCHS)"
   ]
  },
  {
   "cell_type": "code",
   "execution_count": 32,
   "id": "234b95ea",
   "metadata": {},
   "outputs": [
    {
     "name": "stderr",
     "output_type": "stream",
     "text": [
      " 18%|█▊        | 86/483 [00:00<00:00, 777.83it/s]"
     ]
    },
    {
     "name": "stdout",
     "output_type": "stream",
     "text": [
      "Accuracy so far =  0.690\n"
     ]
    },
    {
     "name": "stderr",
     "output_type": "stream",
     "text": [
      "\r",
      " 50%|████▉     | 240/483 [00:00<00:00, 1146.61it/s]"
     ]
    },
    {
     "name": "stdout",
     "output_type": "stream",
     "text": [
      "Accuracy so far =  0.685\n",
      "Accuracy so far =  0.713\n"
     ]
    },
    {
     "name": "stderr",
     "output_type": "stream",
     "text": [
      "100%|██████████| 483/483 [00:00<00:00, 1290.13it/s]"
     ]
    },
    {
     "name": "stdout",
     "output_type": "stream",
     "text": [
      "Accuracy so far =  0.705\n",
      "Test accuracy:  0.714\n"
     ]
    },
    {
     "name": "stderr",
     "output_type": "stream",
     "text": [
      "\n"
     ]
    }
   ],
   "source": [
    "#Evaluate the performance of the model\n",
    "predictions, acc = evaluate_GloveBinaryClassifier(gloveBinaryClassifier, glove_binary_testing_df, 1)"
   ]
  },
  {
   "cell_type": "code",
   "execution_count": 33,
   "id": "f2003048",
   "metadata": {},
   "outputs": [],
   "source": [
    "predicted_labels = [ reverse_index_binary_label[y.item()] for y in predictions] "
   ]
  },
  {
   "cell_type": "code",
   "execution_count": 34,
   "id": "c00977cc",
   "metadata": {},
   "outputs": [
    {
     "name": "stdout",
     "output_type": "stream",
     "text": [
      "                precision    recall  f1-score   support\n",
      "\n",
      "not_propaganda       0.71      0.68      0.70       233\n",
      "    propaganda       0.72      0.74      0.73       250\n",
      "\n",
      "      accuracy                           0.71       483\n",
      "     macro avg       0.71      0.71      0.71       483\n",
      "  weighted avg       0.71      0.71      0.71       483\n",
      "\n"
     ]
    }
   ],
   "source": [
    "#Print out the useful metrics after the model has been evaluated.\n",
    "print(classification_report(df_test['binary_label'], predicted_labels))"
   ]
  },
  {
   "cell_type": "code",
   "execution_count": 35,
   "id": "388e4d3c",
   "metadata": {},
   "outputs": [],
   "source": [
    "#Save the GloVe Binary classifier\n",
    "output_dir=\"glove-binary-classifier\"\n",
    "torch.save(gloveBinaryClassifier,output_dir)"
   ]
  },
  {
   "cell_type": "code",
   "execution_count": 36,
   "id": "77d89dfd",
   "metadata": {},
   "outputs": [],
   "source": [
    "#Empty the CUDA cache and perform garbage collection to remove unused/unwanted data. Also delete model from memory\n",
    "#If you need the model for any purpose, uncomment the lines of code in the next cell and load the model.\n",
    "torch.cuda.empty_cache()\n",
    "gc.collect()\n",
    "del gloveBinaryClassifier"
   ]
  },
  {
   "cell_type": "code",
   "execution_count": 37,
   "id": "24e4676c",
   "metadata": {},
   "outputs": [],
   "source": [
    "#Read the saved model if required\n",
    "#input_dir=\"glove-binary-classifier\"\n",
    "#saveGloveBinaryClassifier=torch.load(input_dir)"
   ]
  },
  {
   "cell_type": "markdown",
   "id": "cyFZK0Hai1gF",
   "metadata": {
    "id": "cyFZK0Hai1gF"
   },
   "source": [
    "## **Task 1.1 - BERT Binary Classifier**"
   ]
  },
  {
   "cell_type": "code",
   "execution_count": 38,
   "id": "7g30B1DCi8Am",
   "metadata": {
    "colab": {
     "base_uri": "https://localhost:8080/",
     "height": 113,
     "referenced_widgets": [
      "5ead4e14d1a549b880fcce0fbf6704e1",
      "77b76d8cd7d745baaa70aa0005c882c8",
      "50fcfb75bd0e4bfca0b86822fd80a58c",
      "8b3de6ae26db4a7d94a6e47d4641cf93",
      "15266e8066c5475aa0b6348f7b98aa84",
      "83ec92e54e6d4355863a3ba1f0c33394",
      "74d58f206035402bad71f65e78426280",
      "d0ae499bbdca4ce6baa258d3321502f1",
      "b3a1fcb1c6704f0f91733d5190a9fce8",
      "cd333cfe3f874834aa7d466d6c94112b",
      "ffe3cb40f870406fb811fd1cd70f1a1e",
      "8ddc46be9b654aa5b5a3c65a7b51a9db",
      "0d57aa1ab05a4df69b9ba8866af342ca",
      "79af139548b248bf8eec1a16fa5f67df",
      "79d3d9cccd3b4f3ca0a9c2edb4ec9356",
      "540b6a869e594f45a2b66192275a0289",
      "1aa9725231c04d428bb104452390bfb8",
      "1b71a69a0d7f47cfa6df3222de1dd387",
      "8d91f5071edf4c089f29c879471408ef",
      "a39f5549e0874ba4b8556249d952fbf4",
      "3c617c33befa462bbf00a10097a1e59a",
      "118a5a0bac274e1da2c8e92491d560ff",
      "ff2b24032bae4be5a4d4cae835f697be",
      "5d736b4feec8425b89158293adaf0bd1",
      "401064bbff8b4583bc862e7a63620e9d",
      "076437b05e054c1fb1d4b6babba8129d",
      "d42e73bccd4f460e84c76dd0ffbb125c",
      "bfa6fadc19b24ac48b837236fd264944",
      "b3a22bd1ec5b4ee4bdb9a2ad34c036a4",
      "64b2a24d6ae54f0db58d31f8f611af8a",
      "dd6583034cfa461cb504e4d6a2261a9e",
      "0c921a9133b141ce971f3e89c082594f",
      "b8dd8658c6dd42d296a49989745b3845"
     ]
    },
    "executionInfo": {
     "elapsed": 839,
     "status": "ok",
     "timestamp": 1682547660199,
     "user": {
      "displayName": "PRANOV SARATH",
      "userId": "05679883333603541894"
     },
     "user_tz": -60
    },
    "id": "7g30B1DCi8Am",
    "outputId": "0468131c-dfaa-4f7e-d209-e7078671522a"
   },
   "outputs": [],
   "source": [
    "tokenizer=BertTokenizer.from_pretrained('bert-base-uncased')\n",
    "\n",
    "#Adapted from the Advanced NLP Lab 6 Solutions Notebook\n",
    "class Dataset(torch.utils.data.Dataset):\n",
    "    \"\"\"\n",
    "    Adapted from the Advanced NLP Lab 6 Solutions Notebook\n",
    "    This class defines a Dataset that will be used to load the prepare the data for training, validation and testing\n",
    "    \"\"\"\n",
    "    \n",
    "    def __init__(self, df, label_dict, column='tagged_in_context'):\n",
    "        self.labels = [label_dict[label] for label in df['label']]\n",
    "        self.texts = [tokenizer.encode_plus(text.lower(), padding='max_length', max_length=512, truncation=True, return_tensors=\"pt\") for text in df[column]]\n",
    "        \n",
    "    def classes(self):\n",
    "        return self.labels\n",
    "    \n",
    "    def __len__(self):\n",
    "        return len(self.labels)\n",
    "    \n",
    "    def get_batch_labels(self, idx):\n",
    "        return np.array(self.labels[idx])\n",
    "    \n",
    "    def get_batch_texts(self, idx):\n",
    "        return self.texts[idx]\n",
    "    \n",
    "    def __getitem__(self, idx):\n",
    "        batch_texts = self.get_batch_texts(idx)\n",
    "        batch_y = self.get_batch_labels(idx)\n",
    "        \n",
    "        return batch_texts, batch_y"
   ]
  },
  {
   "cell_type": "code",
   "execution_count": 39,
   "id": "MkvgKC_ti_UQ",
   "metadata": {
    "id": "MkvgKC_ti_UQ"
   },
   "outputs": [],
   "source": [
    "def prepare_inputs(input1, label, device):\n",
    "    #Prepare the inputs for the classification task\n",
    "    #Move the required variables to the GPU\n",
    "    label = label.to(device)\n",
    "    mask = input1['attention_mask'].to(device)\n",
    "    input_id = input1['input_ids'].squeeze(1).to(device)\n",
    "    return (input_id, mask, label)"
   ]
  },
  {
   "cell_type": "code",
   "execution_count": 40,
   "id": "5zw8zvQHjXpB",
   "metadata": {
    "id": "5zw8zvQHjXpB"
   },
   "outputs": [],
   "source": [
    "#Adapted from the Advanced NLP Lab 6 Solutions Notebook\n",
    "class BertBinaryClassifier(nn.Module):\n",
    "    \"\"\"\n",
    "    Code adapted from Advanced NLP Week 6 Lab solutions.\n",
    "    This class will define the structure of the neural network used for classification.\n",
    "    It also defines how the output from one layer will be propagated to the next.\n",
    "    This particular netowrk will get the embeddings from the BERToModel\n",
    "    \n",
    "    Input Parameters:\n",
    "    input_size: The size of the input data\n",
    "    dropout: The amount of layers to be randomly turned off to avoid overfitting the data.\n",
    "    output_size: The expected number of outputs, labels in the dataset.\n",
    "    \"\"\"\n",
    "    \n",
    "    def __init__(self,dropout=0.5,num_classes=2):\n",
    "        \n",
    "        super(BertBinaryClassifier,self).__init__()\n",
    "        \n",
    "        self.bert=BertModel.from_pretrained('bert-base-uncased')\n",
    "        self.dropout=nn.Dropout(dropout)\n",
    "        self.linear=nn.Linear(768,num_classes)\n",
    "        self.relu=nn.ReLU()\n",
    "        \n",
    "    def forward(self,input_id,mask):\n",
    "        \n",
    "        last_hidden_layer,pooled_output = self.bert(input_ids=input_id,attention_mask=mask,return_dict=False)\n",
    "        dropout_output=self.dropout(pooled_output)\n",
    "        linear_output=self.linear(dropout_output)\n",
    "        final_layer=self.relu(linear_output)\n",
    "        \n",
    "        return final_layer"
   ]
  },
  {
   "cell_type": "code",
   "execution_count": 121,
   "id": "kF46ySinjndc",
   "metadata": {
    "id": "kF46ySinjndc"
   },
   "outputs": [],
   "source": [
    "#Adapted from the Advanced NLP Lab 6 Solutions Notebook\n",
    "def train(model, train_data,val_data,learning_rate,epochs, batch_size=2):\n",
    "    \"\"\"\n",
    "    Code adapted from Advanced NLP Week 6 LAb Solutions\n",
    "    This function is responsible for training the BERT Binary Classifier on the input data. \n",
    "    This will orchestrate loss calculation, backpropagation, evaluation, learning rate\n",
    "    \n",
    "    Input Parameters:\n",
    "    model: The instance of the model class to be used for training\n",
    "    train_data: The training 'Dataset' (instance) to be used for training the model\n",
    "    val_data: The validation 'Dataset' (instance) to be used for model validation.\n",
    "    learning_rate: The value that specifies how the model parameters are updated with each iteration\n",
    "    epochs: The number of iterations to be performed during training.\n",
    "    \n",
    "    Outputs:\n",
    "    None\n",
    "    Prints the Training iteration, training loss and validation loss\n",
    "    \"\"\"\n",
    "    \n",
    "    \n",
    "    train_dataloader=torch.utils.data.DataLoader(train_data,batch_size=batch_size,shuffle=True)\n",
    "    val_dataloader=torch.utils.data.DataLoader(val_data,batch_size=2)\n",
    "    \n",
    "    use_cuda=torch.cuda.is_available()\n",
    "    device=torch.device(\"cuda\" if use_cuda else \"cpu\")\n",
    "    \n",
    "    criterion=nn.CrossEntropyLoss()\n",
    "    optimizer=Adam(model.parameters(),lr=learning_rate)\n",
    "    \n",
    "    if use_cuda:\n",
    "        model=model.cuda()\n",
    "        criterion=criterion.cuda()\n",
    "        \n",
    "    for epoch_num in range(epochs):\n",
    "        total_acc_train=0\n",
    "        total_loss_train=0\n",
    "        model.train()\n",
    "        for train_input,train_label in tqdm(train_dataloader):\n",
    "            \n",
    "            input_id,mask, train_label=prepare_inputs(train_input,train_label,device)\n",
    "            \n",
    "            output=model(input_id,mask)\n",
    "            \n",
    "            batch_loss=criterion(output,train_label.long())\n",
    "            total_loss_train +=batch_loss.item()\n",
    "            \n",
    "            acc=(output.argmax(dim=1)==train_label).sum().item()\n",
    "            total_acc_train+=acc\n",
    "            \n",
    "            model.zero_grad()\n",
    "            batch_loss.backward()\n",
    "            optimizer.step()\n",
    "            \n",
    "        total_acc_val=0\n",
    "        total_loss_val=0\n",
    "        model.eval()\n",
    "        with torch.no_grad():\n",
    "            for val_input,val_label in val_dataloader:\n",
    "                \n",
    "                input_id,mask, val_label=prepare_inputs(val_input,val_label,device)\n",
    "                \n",
    "                output=model(input_id,mask)\n",
    "                \n",
    "                batch_loss=criterion(output,val_label.long())\n",
    "                \n",
    "                total_loss_val+=batch_loss.item()\n",
    "                \n",
    "                acc=(output.argmax(dim=1)==val_label).sum().item()\n",
    "                total_acc_val+=acc\n",
    "                \n",
    "        print(f'Epochs: {epoch_num+1} | Train Loss: {total_loss_train / len(train_data):.3f} | Train Accuracy: {total_acc_train/len(train_data):.3f}')\n",
    "        print(f'Val loss: {total_loss_val/len(val_data):.3f} | Val Accuracy: {total_acc_val / len(val_data):.3f}')    "
   ]
  },
  {
   "cell_type": "code",
   "execution_count": 42,
   "id": "S3_jywGekCUL",
   "metadata": {
    "id": "S3_jywGekCUL"
   },
   "outputs": [],
   "source": [
    "batchsize=4\n",
    "#Adapted from the Advanced NLP Lab 6 Solutions Notebook\n",
    "def evaluate(model,test_dataset,batchsize=4):\n",
    "    \"\"\"\n",
    "    Code adapted from Advanced NLP Week 6 Lab Solutions\n",
    "    This function is responsible for evaluating the model on previously unseen test data(data not used in training/validation)\n",
    "    \n",
    "    Input Parameters:\n",
    "    model: The instance of the model class for which evaluation needs to be performed.\n",
    "    test_dataset: The test dataset to be used for testing out to use to perform evaluation of the model\n",
    "    \n",
    "    Outputs:\n",
    "    predictions: An array of tensors containing the predictions of the model for each data point in the training dataset\n",
    "    acc: The total accuracy of the model.\n",
    "    \"\"\"\n",
    "    model.eval()\n",
    "    test_dataloader=torch.utils.data.DataLoader(test_dataset,batch_size=batchsize)\n",
    "    \n",
    "    use_cuda=torch.cuda.is_available()\n",
    "    device=torch.device(\"cuda\" if use_cuda else \"cpu\")\n",
    "    \n",
    "    if use_cuda:\n",
    "        model=model.cuda()\n",
    "        \n",
    "    total_acc_test=0\n",
    "    with torch.no_grad():\n",
    "        count=0\n",
    "        predictions=[]\n",
    "        for test_input,test_label in tqdm(test_dataloader):\n",
    "            count+=batchsize\n",
    "            test_label=test_label.to(device)\n",
    "            mask=test_input['attention_mask'].to(device)\n",
    "            input_id=test_input['input_ids'].squeeze(1).to(device)\n",
    "            output=model(input_id,mask)\n",
    "            #print(output.argmax(dim=1),test_label)\n",
    "            predictions.append(output.argmax(dim=1))  #save the prediction for further analysis\n",
    "            acc=(output.argmax(dim=1)==test_label).sum().item()\n",
    "            \n",
    "            total_acc_test+=acc\n",
    "            if count%100==0:\n",
    "                print(f'Accuracy so far = {total_acc_test/count: .3f}')\n",
    "            \n",
    "    print(f'Test accuracy: {total_acc_test/len(test_dataset): .3f}')\n",
    "    return predictions, (total_acc_test/len(test_dataset))"
   ]
  },
  {
   "cell_type": "code",
   "execution_count": 43,
   "id": "qOIsz2gSlqBy",
   "metadata": {
    "colab": {
     "base_uri": "https://localhost:8080/"
    },
    "executionInfo": {
     "elapsed": 23,
     "status": "ok",
     "timestamp": 1682547660205,
     "user": {
      "displayName": "PRANOV SARATH",
      "userId": "05679883333603541894"
     },
     "user_tz": -60
    },
    "id": "qOIsz2gSlqBy",
    "outputId": "b4989de8-159f-49b0-db0a-dc265ddea34f"
   },
   "outputs": [],
   "source": [
    "df_train_bert_binary, df_test_bert_binary = train_test_split(df_train_input, test_size=0.2, random_state=seed )\n",
    "df_train_bert_binary = df_train_bert_binary[['tagged_in_context', 'binary_label']].copy()\n",
    "df_test_bert_binary = df_test_bert_binary[['tagged_in_context', 'binary_label']].copy()\n",
    "df_validation_bert_binary = df_validation[['tagged_in_context', 'binary_label']].copy()\n",
    "\n",
    "df_train_bert_binary.rename({'binary_label': 'label'}, axis=1, inplace=True)\n",
    "df_test_bert_binary.rename({'binary_label': 'label'}, axis=1, inplace=True)\n",
    "df_validation_bert_binary.rename({'binary_label': 'label'}, axis=1, inplace=True)"
   ]
  },
  {
   "cell_type": "code",
   "execution_count": 44,
   "id": "T86flZwClON-",
   "metadata": {
    "id": "T86flZwClON-"
   },
   "outputs": [],
   "source": [
    "train_data_bert_binary = Dataset(df_train_bert_binary, binary_labels)\n",
    "test_data_bert_binary = Dataset(df_test_bert_binary, binary_labels)\n",
    "validation_data_bert_binary = Dataset(df_validation_bert_binary, binary_labels)"
   ]
  },
  {
   "cell_type": "code",
   "execution_count": 45,
   "id": "leSKjNlGkRws",
   "metadata": {
    "id": "leSKjNlGkRws"
   },
   "outputs": [
    {
     "name": "stderr",
     "output_type": "stream",
     "text": [
      "Some weights of the model checkpoint at bert-base-uncased were not used when initializing BertModel: ['cls.predictions.decoder.weight', 'cls.predictions.transform.LayerNorm.bias', 'cls.predictions.transform.dense.bias', 'cls.predictions.transform.dense.weight', 'cls.seq_relationship.weight', 'cls.predictions.transform.LayerNorm.weight', 'cls.seq_relationship.bias', 'cls.predictions.bias']\n",
      "- This IS expected if you are initializing BertModel from the checkpoint of a model trained on another task or with another architecture (e.g. initializing a BertForSequenceClassification model from a BertForPreTraining model).\n",
      "- This IS NOT expected if you are initializing BertModel from the checkpoint of a model that you expect to be exactly identical (initializing a BertForSequenceClassification model from a BertForSequenceClassification model).\n"
     ]
    }
   ],
   "source": [
    "EPOCHS=1  \n",
    "bert_binary_classifier=BertBinaryClassifier(num_classes=len(binary_labels.keys()))\n",
    "LR=1e-05"
   ]
  },
  {
   "cell_type": "code",
   "execution_count": 46,
   "id": "vLb08hWPkpYC",
   "metadata": {
    "id": "vLb08hWPkpYC"
   },
   "outputs": [
    {
     "name": "stderr",
     "output_type": "stream",
     "text": [
      "100%|██████████| 966/966 [04:53<00:00,  3.29it/s]\n"
     ]
    },
    {
     "name": "stdout",
     "output_type": "stream",
     "text": [
      "Epochs: 1 | Train Loss: 0.228 | Train Accuracy: 0.770\n",
      "Val loss: 0.114 | Val Accuracy: 0.914\n"
     ]
    }
   ],
   "source": [
    "train(bert_binary_classifier,train_data_bert_binary,validation_data_bert_binary,LR,EPOCHS)"
   ]
  },
  {
   "cell_type": "code",
   "execution_count": 47,
   "id": "_Crefv8LktWt",
   "metadata": {
    "id": "_Crefv8LktWt"
   },
   "outputs": [
    {
     "name": "stderr",
     "output_type": "stream",
     "text": [
      " 21%|██        | 102/483 [00:04<00:16, 22.43it/s]"
     ]
    },
    {
     "name": "stdout",
     "output_type": "stream",
     "text": [
      "Accuracy so far =  0.950\n"
     ]
    },
    {
     "name": "stderr",
     "output_type": "stream",
     "text": [
      " 42%|████▏     | 201/483 [00:09<00:13, 21.52it/s]"
     ]
    },
    {
     "name": "stdout",
     "output_type": "stream",
     "text": [
      "Accuracy so far =  0.935\n"
     ]
    },
    {
     "name": "stderr",
     "output_type": "stream",
     "text": [
      " 63%|██████▎   | 303/483 [00:13<00:08, 21.26it/s]"
     ]
    },
    {
     "name": "stdout",
     "output_type": "stream",
     "text": [
      "Accuracy so far =  0.933\n"
     ]
    },
    {
     "name": "stderr",
     "output_type": "stream",
     "text": [
      " 83%|████████▎ | 402/483 [00:18<00:03, 22.13it/s]"
     ]
    },
    {
     "name": "stdout",
     "output_type": "stream",
     "text": [
      "Accuracy so far =  0.925\n"
     ]
    },
    {
     "name": "stderr",
     "output_type": "stream",
     "text": [
      "100%|██████████| 483/483 [00:22<00:00, 21.68it/s]"
     ]
    },
    {
     "name": "stdout",
     "output_type": "stream",
     "text": [
      "Test accuracy:  0.928\n"
     ]
    },
    {
     "name": "stderr",
     "output_type": "stream",
     "text": [
      "\n"
     ]
    }
   ],
   "source": [
    "predictions, acc=evaluate(bert_binary_classifier, test_data_bert_binary, 1)"
   ]
  },
  {
   "cell_type": "code",
   "execution_count": 48,
   "id": "713f113c",
   "metadata": {},
   "outputs": [
    {
     "name": "stdout",
     "output_type": "stream",
     "text": [
      "                precision    recall  f1-score   support\n",
      "\n",
      "not_propaganda       0.90      0.96      0.93       233\n",
      "    propaganda       0.96      0.90      0.93       250\n",
      "\n",
      "      accuracy                           0.93       483\n",
      "     macro avg       0.93      0.93      0.93       483\n",
      "  weighted avg       0.93      0.93      0.93       483\n",
      "\n"
     ]
    }
   ],
   "source": [
    "predicted_labels = [ reverse_index_binary_label[y.item()] for y in predictions] \n",
    "\n",
    "\n",
    "print(classification_report(df_test_bert_binary['label'], predicted_labels))"
   ]
  },
  {
   "cell_type": "code",
   "execution_count": 49,
   "id": "31318b1b",
   "metadata": {},
   "outputs": [
    {
     "data": {
      "text/plain": [
       "4"
      ]
     },
     "execution_count": 49,
     "metadata": {},
     "output_type": "execute_result"
    }
   ],
   "source": [
    "#Save the GloVe Binary classifier\n",
    "output_dir=\"bert-binary-classifier\"\n",
    "torch.save(bert_binary_classifier,output_dir)"
   ]
  },
  {
   "cell_type": "code",
   "execution_count": 50,
   "id": "a75add2b",
   "metadata": {},
   "outputs": [],
   "source": [
    "#Clear the CUDA Cache and perform garbage collection to remove unused items from memory\n",
    "#and avoid OutOfMemory Execeptions\n",
    "#If you require the model, uncomment the lines in the next cell and execute it to load the model to memory\n",
    "torch.cuda.empty_cache()\n",
    "gc.collect()\n",
    "del bert_binary_classifier"
   ]
  },
  {
   "cell_type": "code",
   "execution_count": null,
   "id": "7da09354",
   "metadata": {},
   "outputs": [],
   "source": [
    "#Read the saved model if required\n",
    "#input_dir=\"bert-binary-classifier\"\n",
    "#bert_binary_classifier=torch.load(input_dir)"
   ]
  },
  {
   "cell_type": "markdown",
   "id": "83102a15",
   "metadata": {
    "id": "83102a15"
   },
   "source": [
    "# **Task 2 - Multi-class Classification**"
   ]
  },
  {
   "cell_type": "code",
   "execution_count": 51,
   "id": "7WdKaKzv7rDa",
   "metadata": {
    "id": "7WdKaKzv7rDa"
   },
   "outputs": [],
   "source": [
    "df_train_multiclass_filtered = df_train_input[df_train_input['label']!='not_propaganda']\n",
    "df_test_multiclass_filtered = df_test[df_test['label']!='not_propaganda']\n",
    "df_validation_multiclass_filtered = df_validation[df_validation['label']!='not_propaganda']"
   ]
  },
  {
   "cell_type": "code",
   "execution_count": 52,
   "id": "6d512fe5",
   "metadata": {},
   "outputs": [
    {
     "data": {
      "text/html": [
       "<div>\n",
       "<style scoped>\n",
       "    .dataframe tbody tr th:only-of-type {\n",
       "        vertical-align: middle;\n",
       "    }\n",
       "\n",
       "    .dataframe tbody tr th {\n",
       "        vertical-align: top;\n",
       "    }\n",
       "\n",
       "    .dataframe thead th {\n",
       "        text-align: right;\n",
       "    }\n",
       "</style>\n",
       "<table border=\"1\" class=\"dataframe\">\n",
       "  <thead>\n",
       "    <tr style=\"text-align: right;\">\n",
       "      <th></th>\n",
       "      <th>tagged_in_context</th>\n",
       "      <th>binary_label</th>\n",
       "    </tr>\n",
       "    <tr>\n",
       "      <th>label</th>\n",
       "      <th></th>\n",
       "      <th></th>\n",
       "    </tr>\n",
       "  </thead>\n",
       "  <tbody>\n",
       "    <tr>\n",
       "      <th>appeal_to_fear_prejudice</th>\n",
       "      <td>151</td>\n",
       "      <td>151</td>\n",
       "    </tr>\n",
       "    <tr>\n",
       "      <th>causal_oversimplification</th>\n",
       "      <td>158</td>\n",
       "      <td>158</td>\n",
       "    </tr>\n",
       "    <tr>\n",
       "      <th>doubt</th>\n",
       "      <td>144</td>\n",
       "      <td>144</td>\n",
       "    </tr>\n",
       "    <tr>\n",
       "      <th>exaggeration,minimisation</th>\n",
       "      <td>164</td>\n",
       "      <td>164</td>\n",
       "    </tr>\n",
       "    <tr>\n",
       "      <th>flag_waving</th>\n",
       "      <td>148</td>\n",
       "      <td>148</td>\n",
       "    </tr>\n",
       "    <tr>\n",
       "      <th>loaded_language</th>\n",
       "      <td>154</td>\n",
       "      <td>154</td>\n",
       "    </tr>\n",
       "    <tr>\n",
       "      <th>name_calling,labeling</th>\n",
       "      <td>157</td>\n",
       "      <td>157</td>\n",
       "    </tr>\n",
       "    <tr>\n",
       "      <th>repetition</th>\n",
       "      <td>147</td>\n",
       "      <td>147</td>\n",
       "    </tr>\n",
       "  </tbody>\n",
       "</table>\n",
       "</div>"
      ],
      "text/plain": [
       "                           tagged_in_context  binary_label\n",
       "label                                                     \n",
       "appeal_to_fear_prejudice                 151           151\n",
       "causal_oversimplification                158           158\n",
       "doubt                                    144           144\n",
       "exaggeration,minimisation                164           164\n",
       "flag_waving                              148           148\n",
       "loaded_language                          154           154\n",
       "name_calling,labeling                    157           157\n",
       "repetition                               147           147"
      ]
     },
     "execution_count": 52,
     "metadata": {},
     "output_type": "execute_result"
    }
   ],
   "source": [
    "df_train_multiclass_filtered.groupby('label').count()"
   ]
  },
  {
   "cell_type": "code",
   "execution_count": 53,
   "id": "63446d6c",
   "metadata": {
    "id": "63446d6c"
   },
   "outputs": [
    {
     "data": {
      "text/plain": [
       "{'appeal_to_fear_prejudice': 0,\n",
       " 'causal_oversimplification': 1,\n",
       " 'doubt': 2,\n",
       " 'exaggeration,minimisation': 3,\n",
       " 'flag_waving': 4,\n",
       " 'loaded_language': 5,\n",
       " 'name_calling,labeling': 6,\n",
       " 'repetition': 7}"
      ]
     },
     "execution_count": 53,
     "metadata": {},
     "output_type": "execute_result"
    }
   ],
   "source": [
    "#Binary Classification labels\n",
    "multiclass_labels = {label:i for i,label in enumerate(df_train_multiclass_filtered['label'].sort_values().unique().tolist())}\n",
    "multiclass_labels"
   ]
  },
  {
   "cell_type": "code",
   "execution_count": 54,
   "id": "53c37309",
   "metadata": {
    "id": "53c37309"
   },
   "outputs": [
    {
     "data": {
      "text/plain": [
       "{0: 'appeal_to_fear_prejudice',\n",
       " 1: 'causal_oversimplification',\n",
       " 2: 'doubt',\n",
       " 3: 'exaggeration,minimisation',\n",
       " 4: 'flag_waving',\n",
       " 5: 'loaded_language',\n",
       " 6: 'name_calling,labeling',\n",
       " 7: 'repetition'}"
      ]
     },
     "execution_count": 54,
     "metadata": {},
     "output_type": "execute_result"
    }
   ],
   "source": [
    "reverse_index_multiclass_label ={v:k for (k,v) in multiclass_labels.items()}\n",
    "reverse_index_multiclass_label"
   ]
  },
  {
   "cell_type": "code",
   "execution_count": 55,
   "id": "5af86b6c",
   "metadata": {
    "id": "5af86b6c"
   },
   "outputs": [],
   "source": [
    "df_train_multiclass = df_train_multiclass_filtered[['label','tagged_in_context']].copy()\n",
    "df_test_multiclass = df_test_multiclass_filtered[['label','tagged_in_context']].copy()\n",
    "df_validation_multiclass = df_validation_multiclass_filtered[['label','tagged_in_context']].copy()"
   ]
  },
  {
   "cell_type": "code",
   "execution_count": 56,
   "id": "Q3MWCvHFBxFi",
   "metadata": {
    "id": "Q3MWCvHFBxFi"
   },
   "outputs": [],
   "source": [
    "import re\n",
    "def fn_returnSpan(s):\n",
    "  result = re.search('<BOS>(.*)<EOS>', s)\n",
    "  return(result.group(1))\n",
    "\n",
    "df_train_multiclass['prop_span'] = df_train_multiclass['tagged_in_context'].apply(fn_returnSpan)\n",
    "df_test_multiclass['prop_span'] = df_test_multiclass['tagged_in_context'].apply(fn_returnSpan)\n",
    "df_validation_multiclass['prop_span'] = df_validation_multiclass['tagged_in_context'].apply(fn_returnSpan)\n"
   ]
  },
  {
   "cell_type": "code",
   "execution_count": 57,
   "id": "97068e9c",
   "metadata": {},
   "outputs": [
    {
     "data": {
      "text/html": [
       "<div>\n",
       "<style scoped>\n",
       "    .dataframe tbody tr th:only-of-type {\n",
       "        vertical-align: middle;\n",
       "    }\n",
       "\n",
       "    .dataframe tbody tr th {\n",
       "        vertical-align: top;\n",
       "    }\n",
       "\n",
       "    .dataframe thead th {\n",
       "        text-align: right;\n",
       "    }\n",
       "</style>\n",
       "<table border=\"1\" class=\"dataframe\">\n",
       "  <thead>\n",
       "    <tr style=\"text-align: right;\">\n",
       "      <th></th>\n",
       "      <th>label</th>\n",
       "      <th>tagged_in_context</th>\n",
       "      <th>prop_span</th>\n",
       "    </tr>\n",
       "  </thead>\n",
       "  <tbody>\n",
       "    <tr>\n",
       "      <th>1068</th>\n",
       "      <td>causal_oversimplification</td>\n",
       "      <td>&lt;BOS&gt; Democrats want to delay this vote until ...</td>\n",
       "      <td>Democrats want to delay this vote until after...</td>\n",
       "    </tr>\n",
       "    <tr>\n",
       "      <th>1892</th>\n",
       "      <td>causal_oversimplification</td>\n",
       "      <td>As I've said before, I don't support Kavanaugh...</td>\n",
       "      <td>that attack on him was orchestrated, it was p...</td>\n",
       "    </tr>\n",
       "    <tr>\n",
       "      <th>1144</th>\n",
       "      <td>repetition</td>\n",
       "      <td>We’re doing everything in &lt;BOS&gt; our &lt;EOS&gt; powe...</td>\n",
       "      <td>our</td>\n",
       "    </tr>\n",
       "    <tr>\n",
       "      <th>191</th>\n",
       "      <td>flag_waving</td>\n",
       "      <td>The &lt;BOS&gt; American people &lt;EOS&gt; deserve the tr...</td>\n",
       "      <td>American people</td>\n",
       "    </tr>\n",
       "    <tr>\n",
       "      <th>1406</th>\n",
       "      <td>exaggeration,minimisation</td>\n",
       "      <td>Martin thus revels in smug certitude that the ...</td>\n",
       "      <td>legions of intrinsically disordered homosexua...</td>\n",
       "    </tr>\n",
       "    <tr>\n",
       "      <th>...</th>\n",
       "      <td>...</td>\n",
       "      <td>...</td>\n",
       "      <td>...</td>\n",
       "    </tr>\n",
       "    <tr>\n",
       "      <th>1639</th>\n",
       "      <td>doubt</td>\n",
       "      <td>&lt;BOS&gt; The Guardian has painted social media ch...</td>\n",
       "      <td>The Guardian has painted social media chiefly...</td>\n",
       "    </tr>\n",
       "    <tr>\n",
       "      <th>2056</th>\n",
       "      <td>loaded_language</td>\n",
       "      <td>We finally have the official numbers, and &lt;BOS...</td>\n",
       "      <td>they aren’t pretty</td>\n",
       "    </tr>\n",
       "    <tr>\n",
       "      <th>972</th>\n",
       "      <td>repetition</td>\n",
       "      <td>For example, as Stephen Coughlin has revealed,...</td>\n",
       "      <td>violent extremists</td>\n",
       "    </tr>\n",
       "    <tr>\n",
       "      <th>214</th>\n",
       "      <td>repetition</td>\n",
       "      <td>Judicial Watch Senior Investigator Bill Marsha...</td>\n",
       "      <td>indoctrinate</td>\n",
       "    </tr>\n",
       "    <tr>\n",
       "      <th>1056</th>\n",
       "      <td>loaded_language</td>\n",
       "      <td>Then when Lesley is passed out, &lt;BOS&gt; I take h...</td>\n",
       "      <td>I take her to the closet and rape her.’</td>\n",
       "    </tr>\n",
       "  </tbody>\n",
       "</table>\n",
       "<p>1223 rows × 3 columns</p>\n",
       "</div>"
      ],
      "text/plain": [
       "                          label  \\\n",
       "1068  causal_oversimplification   \n",
       "1892  causal_oversimplification   \n",
       "1144                 repetition   \n",
       "191                 flag_waving   \n",
       "1406  exaggeration,minimisation   \n",
       "...                         ...   \n",
       "1639                      doubt   \n",
       "2056            loaded_language   \n",
       "972                  repetition   \n",
       "214                  repetition   \n",
       "1056            loaded_language   \n",
       "\n",
       "                                      tagged_in_context  \\\n",
       "1068  <BOS> Democrats want to delay this vote until ...   \n",
       "1892  As I've said before, I don't support Kavanaugh...   \n",
       "1144  We’re doing everything in <BOS> our <EOS> powe...   \n",
       "191   The <BOS> American people <EOS> deserve the tr...   \n",
       "1406  Martin thus revels in smug certitude that the ...   \n",
       "...                                                 ...   \n",
       "1639  <BOS> The Guardian has painted social media ch...   \n",
       "2056  We finally have the official numbers, and <BOS...   \n",
       "972   For example, as Stephen Coughlin has revealed,...   \n",
       "214   Judicial Watch Senior Investigator Bill Marsha...   \n",
       "1056  Then when Lesley is passed out, <BOS> I take h...   \n",
       "\n",
       "                                              prop_span  \n",
       "1068   Democrats want to delay this vote until after...  \n",
       "1892   that attack on him was orchestrated, it was p...  \n",
       "1144                                               our   \n",
       "191                                    American people   \n",
       "1406   legions of intrinsically disordered homosexua...  \n",
       "...                                                 ...  \n",
       "1639   The Guardian has painted social media chiefly...  \n",
       "2056                                they aren’t pretty   \n",
       "972                                 violent extremists   \n",
       "214                                       indoctrinate   \n",
       "1056           I take her to the closet and rape her.’   \n",
       "\n",
       "[1223 rows x 3 columns]"
      ]
     },
     "execution_count": 57,
     "metadata": {},
     "output_type": "execute_result"
    }
   ],
   "source": [
    "df_train_multiclass"
   ]
  },
  {
   "cell_type": "markdown",
   "id": "c9490205",
   "metadata": {
    "id": "c9490205"
   },
   "source": [
    "## **2.1 - GloVe**"
   ]
  },
  {
   "cell_type": "code",
   "execution_count": 58,
   "id": "8947419e",
   "metadata": {},
   "outputs": [],
   "source": [
    "# Code modified from Lab 6 Solutions\n",
    "class GloveEmbeddedMultiClassDataset(torch.utils.data.Dataset):\n",
    "    \"\"\"\n",
    "    This class defines a Dataset that will be used to load the prepare the data for training, validation and testing\n",
    "    \"\"\"\n",
    "    \n",
    "    \n",
    "    def __init__(self, df, label_dict, context_column='tagged_in_context', span_column='prop_span'):\n",
    "        self.labels = [label_dict[label] for label in df['label']]\n",
    "        self.context_texts = [torch.from_numpy(np.array(sentenceVector(spacyTokenizer(text))).astype(np.float32)) for text in df[context_column]]\n",
    "        self.span_texts = [torch.from_numpy(np.array(sentenceVector(spacyTokenizer(text))).astype(np.float32)) for text in df[span_column]]\n",
    "        \n",
    "    def classes(self):\n",
    "        return self.labels\n",
    "    \n",
    "    def __len__(self):\n",
    "        return len(self.labels)\n",
    "    \n",
    "    def get_batch_labels(self, idx):\n",
    "        return np.array(self.labels[idx])\n",
    "    \n",
    "    def get_batch_context_texts(self, idx):\n",
    "        return self.context_texts[idx]\n",
    "    \n",
    "    def get_batch_span_texts(self, idx):\n",
    "        return self.span_texts[idx]\n",
    "    \n",
    "    def __getitem__(self, idx):\n",
    "        batch_context_texts = self.get_batch_context_texts(idx)\n",
    "        batch_span_texts = self.get_batch_span_texts(idx)\n",
    "        batch_y = self.get_batch_labels(idx)\n",
    "        \n",
    "        return batch_context_texts, batch_span_texts, batch_y\n"
   ]
  },
  {
   "cell_type": "code",
   "execution_count": 59,
   "id": "131bc6b4",
   "metadata": {},
   "outputs": [],
   "source": [
    "glove_multiclass_training_df = GloveEmbeddedMultiClassDataset(df_train_multiclass, multiclass_labels)\n",
    "glove_multiclass_testing_df = GloveEmbeddedMultiClassDataset(df_test_multiclass, multiclass_labels)\n",
    "glove_multiclass_validation_df = GloveEmbeddedMultiClassDataset(df_validation_multiclass, multiclass_labels)"
   ]
  },
  {
   "cell_type": "code",
   "execution_count": 60,
   "id": "ce0d4e57",
   "metadata": {},
   "outputs": [],
   "source": [
    "#Code modified from advanced NLP Week 6 Lab solutions\n",
    "class GloveMultiClassifierNet(nn.Module):\n",
    "    \"\"\"\n",
    "    Code adapted from Advanced NLP Week 6 Lab solutions.\n",
    "    This class will define the structure of the neural network used for classification.\n",
    "    It also defines how the output from one layer will be propagated to the next.\n",
    "    This particular netowrk will get the embeddings from the pretrained GloVe model.\n",
    "    \n",
    "    Input Parameters:\n",
    "    input_size: The size of the input data\n",
    "    output_size: The expected number of outputs, labels in the dataset.\n",
    "    dropout: The amount of layers to be randomly turned off to avoid overfitting the data.\n",
    "    \"\"\"\n",
    "    def __init__(self, input_size, hidden_size, output_size, dropout=0.3):\n",
    "        super(GloveMultiClassifierNet, self).__init__()\n",
    "        self.fc1 = nn.Linear(input_size, 512)\n",
    "        self.bn1 = nn.BatchNorm1d(512)\n",
    "        self.fc2 = nn.Linear(512, 256)\n",
    "        self.bn2 = nn.BatchNorm1d(256)\n",
    "        self.fc3 = nn.Linear(256, 128)\n",
    "        self.bn3 = nn.BatchNorm1d(128)\n",
    "        self.fc4 = nn.Linear(128, output_size)\n",
    "        self.dropout = nn.Dropout(dropout)\n",
    "        self.leakyrelu = nn.LeakyReLU(0.1)\n",
    "        \n",
    "    def forward(self, x1, x2):\n",
    "        x = torch.cat((x1, x2), dim=1)\n",
    "        x = self.fc1(x)\n",
    "        x = self.bn1(x)\n",
    "        x = self.leakyrelu(x)\n",
    "        x = self.dropout(x)\n",
    "        x = self.fc2(x)\n",
    "        x = self.bn2(x)\n",
    "        x = self.leakyrelu(x)\n",
    "        x = self.dropout(x)\n",
    "        x = self.fc3(x)\n",
    "        x = self.bn3(x)\n",
    "        x = self.leakyrelu(x)\n",
    "        x = self.dropout(x)\n",
    "        x = self.fc4(x)\n",
    "        x = nn.functional.softmax(x, dim=1)\n",
    "        return x\n"
   ]
  },
  {
   "cell_type": "code",
   "execution_count": 61,
   "id": "3f6f9c53",
   "metadata": {},
   "outputs": [],
   "source": [
    "#Code modified from advanced NLP Week 6 Lab solutions\n",
    "def train_GloveMultiClassClassifier(model, train_data,val_data,learning_rate,epochs, batch_size=4):\n",
    "    \"\"\"\n",
    "    Code adapted from Advanced NLP Week 6 LAb Solutions\n",
    "    This function is responsible for training the GloVe Multiclass Classifier on the input data. \n",
    "    This will orchestrate loss calculation, backpropagation, evaluation, learning rate\n",
    "    \n",
    "    Input Parameters:\n",
    "    model: The instance of the model class to be used for training\n",
    "    train_data: The training 'Dataset' (instance) to be used for training the model\n",
    "    val_data: The validation 'Dataset' (instance) to be used for model validation.\n",
    "    learning_rate: The value that specifies how the model parameters are updated with each iteration\n",
    "    epochs: The number of iterations to be performed during training.\n",
    "    batch_size: The number of batches to be used for training the model\n",
    "    \n",
    "    Outputs:\n",
    "    None\n",
    "    Prints the Training iteration, training loss and validation loss\n",
    "    \"\"\"\n",
    "    \n",
    "    train_dataloader=torch.utils.data.DataLoader(train_data,batch_size=batch_size,shuffle=True)\n",
    "    val_dataloader=torch.utils.data.DataLoader(val_data,batch_size=4)\n",
    "    \n",
    "    use_cuda=torch.cuda.is_available()\n",
    "    device=torch.device(\"cuda\" if use_cuda else \"cpu\")\n",
    "    \n",
    "    criterion=nn.CrossEntropyLoss()\n",
    "    optimizer=Adam(model.parameters(),lr=learning_rate)\n",
    "    \n",
    "    if use_cuda:\n",
    "        model=model.cuda()\n",
    "        criterion=criterion.cuda()\n",
    "        \n",
    "    for epoch_num in range(epochs):\n",
    "        total_acc_train=0\n",
    "        total_loss_train=0\n",
    "        model.train()\n",
    "        for tagged_context, span_text ,train_label in tqdm(train_dataloader):\n",
    "            \n",
    "            tagged_context = tagged_context.cuda()\n",
    "            span_text = span_text.cuda()\n",
    "            train_label = train_label.cuda()\n",
    "            output=model(tagged_context, span_text )\n",
    "            \n",
    "            batch_loss=criterion(output,train_label.long())\n",
    "            total_loss_train +=batch_loss.item()\n",
    "            \n",
    "            acc=(output.argmax(dim=1)==train_label).sum().item()\n",
    "            total_acc_train+=acc\n",
    "            \n",
    "            model.zero_grad()\n",
    "            batch_loss.backward()\n",
    "            optimizer.step()\n",
    "            \n",
    "        total_acc_val=0\n",
    "        total_loss_val=0\n",
    "        model.eval()\n",
    "        with torch.no_grad():\n",
    "            for val_tagged_context, val_span_text ,val_label in val_dataloader:\n",
    "                \n",
    "                val_tagged_context = val_tagged_context.cuda()\n",
    "                val_span_text = val_span_text.cuda()\n",
    "                val_label = val_label.cuda()\n",
    "                \n",
    "                output=model(val_tagged_context, val_span_text)\n",
    "                \n",
    "                batch_loss=criterion(output,val_label.long())\n",
    "                \n",
    "                total_loss_val+=batch_loss.item()\n",
    "                \n",
    "                acc=(output.argmax(dim=1)==val_label).sum().item()\n",
    "                total_acc_val+=acc\n",
    "                \n",
    "        print(f'Epochs: {epoch_num+1} | Train Loss: {total_loss_train / len(train_data):.3f} | Train Accuracy: {total_acc_train/len(train_data):.3f}')\n",
    "        print(f'Val loss: {total_loss_val/len(val_data):.3f} | Val Accuracy: {total_acc_val / len(val_data):.3f}')    "
   ]
  },
  {
   "cell_type": "code",
   "execution_count": 62,
   "id": "0bdff5fa",
   "metadata": {},
   "outputs": [],
   "source": [
    "#Code modified from advanced NLP Week 6 Lab solutions\n",
    "batchsize=4\n",
    "def evaluate_GloveMultiClassClassifier(model,test_dataset,batchsize=4):\n",
    "    \"\"\"\n",
    "    Code adapted from Advanced NLP Week 6 Lab Solutions\n",
    "    This function is responsible for evaluating the model on previously unseen test data(data not used in training/validation)\n",
    "    \n",
    "    Input Parameters:\n",
    "    model: The instance of the model class for which evaluation needs to be performed.\n",
    "    test_dataset: The test dataset to be used for testing out to use to perform evaluation of the model\n",
    "    \n",
    "    Outputs:\n",
    "    predictions: An array of tensors containing the predictions of the model for each data point in the training dataset\n",
    "    acc: The total accuracy of the model.\n",
    "    \"\"\"\n",
    "    model.eval()\n",
    "    test_dataloader=torch.utils.data.DataLoader(test_dataset,batch_size=batchsize)\n",
    "    \n",
    "    use_cuda=torch.cuda.is_available()\n",
    "    device=torch.device(\"cuda\" if use_cuda else \"cpu\")\n",
    "    \n",
    "    if use_cuda:\n",
    "        model=model.cuda()\n",
    "        \n",
    "    total_acc_test=0\n",
    "    with torch.no_grad():\n",
    "        count=0\n",
    "        predictions=[]\n",
    "        for test_context, test_span,test_label in tqdm(test_dataloader):\n",
    "            count+=batchsize\n",
    "            test_context=test_context.to(device)\n",
    "            test_span=test_span.to(device)\n",
    "            test_label=test_label.to(device)\n",
    "            output=model(test_context, test_span)\n",
    "            #print(output.argmax(dim=1),test_label)\n",
    "            predictions.append(output.argmax(dim=1))  #save the prediction for further analysis\n",
    "            acc=(output.argmax(dim=1)==test_label).sum().item()\n",
    "            \n",
    "            total_acc_test+=acc\n",
    "            if count%100==0:\n",
    "                print(f'Accuracy so far = {total_acc_test/count: .3f}')\n",
    "            \n",
    "    print(f'Test accuracy: {total_acc_test/len(test_dataset): .3f}')\n",
    "    return predictions, (total_acc_test/len(test_dataset))"
   ]
  },
  {
   "cell_type": "code",
   "execution_count": 63,
   "id": "0218c976",
   "metadata": {},
   "outputs": [],
   "source": [
    "INPUT_SIZE = 600\n",
    "HIDDEN_SIZE = 300\n",
    "OUTPUT_SIZE = len(multiclass_labels.keys())\n",
    "\n",
    "\n",
    "EPOCHS=20\n",
    "LR=1e-03\n",
    "gloveMulticlassClassifier = GloveMultiClassifierNet(INPUT_SIZE, HIDDEN_SIZE, OUTPUT_SIZE)"
   ]
  },
  {
   "cell_type": "code",
   "execution_count": 64,
   "id": "72c9b267",
   "metadata": {},
   "outputs": [
    {
     "name": "stderr",
     "output_type": "stream",
     "text": [
      "100%|██████████| 306/306 [00:01<00:00, 189.38it/s]\n"
     ]
    },
    {
     "name": "stdout",
     "output_type": "stream",
     "text": [
      "Epochs: 1 | Train Loss: 0.505 | Train Accuracy: 0.255\n",
      "Val loss: 0.493 | Val Accuracy: 0.326\n"
     ]
    },
    {
     "name": "stderr",
     "output_type": "stream",
     "text": [
      "100%|██████████| 306/306 [00:01<00:00, 201.52it/s]\n"
     ]
    },
    {
     "name": "stdout",
     "output_type": "stream",
     "text": [
      "Epochs: 2 | Train Loss: 0.488 | Train Accuracy: 0.312\n",
      "Val loss: 0.482 | Val Accuracy: 0.362\n"
     ]
    },
    {
     "name": "stderr",
     "output_type": "stream",
     "text": [
      "100%|██████████| 306/306 [00:01<00:00, 239.91it/s]\n"
     ]
    },
    {
     "name": "stdout",
     "output_type": "stream",
     "text": [
      "Epochs: 3 | Train Loss: 0.480 | Train Accuracy: 0.349\n",
      "Val loss: 0.478 | Val Accuracy: 0.355\n"
     ]
    },
    {
     "name": "stderr",
     "output_type": "stream",
     "text": [
      "100%|██████████| 306/306 [00:01<00:00, 235.79it/s]\n"
     ]
    },
    {
     "name": "stdout",
     "output_type": "stream",
     "text": [
      "Epochs: 4 | Train Loss: 0.473 | Train Accuracy: 0.385\n",
      "Val loss: 0.470 | Val Accuracy: 0.409\n"
     ]
    },
    {
     "name": "stderr",
     "output_type": "stream",
     "text": [
      "100%|██████████| 306/306 [00:01<00:00, 238.83it/s]\n"
     ]
    },
    {
     "name": "stdout",
     "output_type": "stream",
     "text": [
      "Epochs: 5 | Train Loss: 0.466 | Train Accuracy: 0.413\n",
      "Val loss: 0.473 | Val Accuracy: 0.366\n"
     ]
    },
    {
     "name": "stderr",
     "output_type": "stream",
     "text": [
      "100%|██████████| 306/306 [00:01<00:00, 195.32it/s]\n"
     ]
    },
    {
     "name": "stdout",
     "output_type": "stream",
     "text": [
      "Epochs: 6 | Train Loss: 0.458 | Train Accuracy: 0.451\n",
      "Val loss: 0.478 | Val Accuracy: 0.366\n"
     ]
    },
    {
     "name": "stderr",
     "output_type": "stream",
     "text": [
      "100%|██████████| 306/306 [00:01<00:00, 198.35it/s]\n"
     ]
    },
    {
     "name": "stdout",
     "output_type": "stream",
     "text": [
      "Epochs: 7 | Train Loss: 0.457 | Train Accuracy: 0.450\n",
      "Val loss: 0.472 | Val Accuracy: 0.366\n"
     ]
    },
    {
     "name": "stderr",
     "output_type": "stream",
     "text": [
      "100%|██████████| 306/306 [00:01<00:00, 238.50it/s]\n"
     ]
    },
    {
     "name": "stdout",
     "output_type": "stream",
     "text": [
      "Epochs: 8 | Train Loss: 0.458 | Train Accuracy: 0.446\n",
      "Val loss: 0.467 | Val Accuracy: 0.384\n"
     ]
    },
    {
     "name": "stderr",
     "output_type": "stream",
     "text": [
      "100%|██████████| 306/306 [00:01<00:00, 229.33it/s]\n"
     ]
    },
    {
     "name": "stdout",
     "output_type": "stream",
     "text": [
      "Epochs: 9 | Train Loss: 0.457 | Train Accuracy: 0.442\n",
      "Val loss: 0.466 | Val Accuracy: 0.409\n"
     ]
    },
    {
     "name": "stderr",
     "output_type": "stream",
     "text": [
      "100%|██████████| 306/306 [00:01<00:00, 236.26it/s]\n"
     ]
    },
    {
     "name": "stdout",
     "output_type": "stream",
     "text": [
      "Epochs: 10 | Train Loss: 0.452 | Train Accuracy: 0.475\n",
      "Val loss: 0.472 | Val Accuracy: 0.376\n"
     ]
    },
    {
     "name": "stderr",
     "output_type": "stream",
     "text": [
      "100%|██████████| 306/306 [00:01<00:00, 236.15it/s]\n"
     ]
    },
    {
     "name": "stdout",
     "output_type": "stream",
     "text": [
      "Epochs: 11 | Train Loss: 0.445 | Train Accuracy: 0.494\n",
      "Val loss: 0.470 | Val Accuracy: 0.394\n"
     ]
    },
    {
     "name": "stderr",
     "output_type": "stream",
     "text": [
      "100%|██████████| 306/306 [00:01<00:00, 205.95it/s]\n"
     ]
    },
    {
     "name": "stdout",
     "output_type": "stream",
     "text": [
      "Epochs: 12 | Train Loss: 0.448 | Train Accuracy: 0.478\n",
      "Val loss: 0.467 | Val Accuracy: 0.419\n"
     ]
    },
    {
     "name": "stderr",
     "output_type": "stream",
     "text": [
      "100%|██████████| 306/306 [00:01<00:00, 233.27it/s]\n"
     ]
    },
    {
     "name": "stdout",
     "output_type": "stream",
     "text": [
      "Epochs: 13 | Train Loss: 0.447 | Train Accuracy: 0.491\n",
      "Val loss: 0.461 | Val Accuracy: 0.441\n"
     ]
    },
    {
     "name": "stderr",
     "output_type": "stream",
     "text": [
      "100%|██████████| 306/306 [00:01<00:00, 217.97it/s]\n"
     ]
    },
    {
     "name": "stdout",
     "output_type": "stream",
     "text": [
      "Epochs: 14 | Train Loss: 0.442 | Train Accuracy: 0.506\n",
      "Val loss: 0.458 | Val Accuracy: 0.441\n"
     ]
    },
    {
     "name": "stderr",
     "output_type": "stream",
     "text": [
      "100%|██████████| 306/306 [00:01<00:00, 233.90it/s]\n"
     ]
    },
    {
     "name": "stdout",
     "output_type": "stream",
     "text": [
      "Epochs: 15 | Train Loss: 0.442 | Train Accuracy: 0.505\n",
      "Val loss: 0.463 | Val Accuracy: 0.427\n"
     ]
    },
    {
     "name": "stderr",
     "output_type": "stream",
     "text": [
      "100%|██████████| 306/306 [00:01<00:00, 218.19it/s]\n"
     ]
    },
    {
     "name": "stdout",
     "output_type": "stream",
     "text": [
      "Epochs: 16 | Train Loss: 0.439 | Train Accuracy: 0.520\n",
      "Val loss: 0.464 | Val Accuracy: 0.412\n"
     ]
    },
    {
     "name": "stderr",
     "output_type": "stream",
     "text": [
      "100%|██████████| 306/306 [00:01<00:00, 198.14it/s]\n"
     ]
    },
    {
     "name": "stdout",
     "output_type": "stream",
     "text": [
      "Epochs: 17 | Train Loss: 0.435 | Train Accuracy: 0.537\n",
      "Val loss: 0.461 | Val Accuracy: 0.444\n"
     ]
    },
    {
     "name": "stderr",
     "output_type": "stream",
     "text": [
      "100%|██████████| 306/306 [00:01<00:00, 191.60it/s]\n"
     ]
    },
    {
     "name": "stdout",
     "output_type": "stream",
     "text": [
      "Epochs: 18 | Train Loss: 0.436 | Train Accuracy: 0.534\n",
      "Val loss: 0.459 | Val Accuracy: 0.441\n"
     ]
    },
    {
     "name": "stderr",
     "output_type": "stream",
     "text": [
      "100%|██████████| 306/306 [00:01<00:00, 208.99it/s]\n"
     ]
    },
    {
     "name": "stdout",
     "output_type": "stream",
     "text": [
      "Epochs: 19 | Train Loss: 0.439 | Train Accuracy: 0.509\n",
      "Val loss: 0.459 | Val Accuracy: 0.448\n"
     ]
    },
    {
     "name": "stderr",
     "output_type": "stream",
     "text": [
      "100%|██████████| 306/306 [00:01<00:00, 226.73it/s]\n"
     ]
    },
    {
     "name": "stdout",
     "output_type": "stream",
     "text": [
      "Epochs: 20 | Train Loss: 0.434 | Train Accuracy: 0.534\n",
      "Val loss: 0.457 | Val Accuracy: 0.455\n"
     ]
    }
   ],
   "source": [
    "train_GloveMultiClassClassifier(gloveMulticlassClassifier,glove_multiclass_training_df,glove_multiclass_validation_df,LR,EPOCHS)"
   ]
  },
  {
   "cell_type": "code",
   "execution_count": 65,
   "id": "98274f85",
   "metadata": {},
   "outputs": [
    {
     "name": "stderr",
     "output_type": "stream",
     "text": [
      " 29%|██▉       | 72/250 [00:00<00:00, 717.30it/s]"
     ]
    },
    {
     "name": "stdout",
     "output_type": "stream",
     "text": [
      "Accuracy so far =  0.640\n"
     ]
    },
    {
     "name": "stderr",
     "output_type": "stream",
     "text": [
      " 86%|████████▌ | 214/250 [00:00<00:00, 669.03it/s]"
     ]
    },
    {
     "name": "stdout",
     "output_type": "stream",
     "text": [
      "Accuracy so far =  0.675\n"
     ]
    },
    {
     "name": "stderr",
     "output_type": "stream",
     "text": [
      "\r",
      "100%|██████████| 250/250 [00:00<00:00, 661.18it/s]"
     ]
    },
    {
     "name": "stdout",
     "output_type": "stream",
     "text": [
      "Test accuracy:  0.676\n"
     ]
    },
    {
     "name": "stderr",
     "output_type": "stream",
     "text": [
      "\n"
     ]
    }
   ],
   "source": [
    "predictions, acc = evaluate_GloveMultiClassClassifier(gloveMulticlassClassifier, glove_multiclass_testing_df,1)"
   ]
  },
  {
   "cell_type": "code",
   "execution_count": 66,
   "id": "d87e7460",
   "metadata": {},
   "outputs": [
    {
     "name": "stdout",
     "output_type": "stream",
     "text": [
      "                           precision    recall  f1-score   support\n",
      "\n",
      " appeal_to_fear_prejudice       0.70      0.66      0.68        29\n",
      "causal_oversimplification       0.59      0.84      0.70        38\n",
      "                    doubt       0.76      0.42      0.54        31\n",
      "exaggeration,minimisation       0.70      0.78      0.74        27\n",
      "              flag_waving       0.71      0.77      0.74        35\n",
      "          loaded_language       0.85      0.67      0.75        33\n",
      "    name_calling,labeling       0.59      0.79      0.68        29\n",
      "               repetition       0.63      0.43      0.51        28\n",
      "\n",
      "                 accuracy                           0.68       250\n",
      "                macro avg       0.69      0.67      0.67       250\n",
      "             weighted avg       0.69      0.68      0.67       250\n",
      "\n"
     ]
    }
   ],
   "source": [
    "predicted_labels = [ reverse_index_multiclass_label[y.item()] for y in predictions] \n",
    "\n",
    "\n",
    "print(classification_report(df_test_multiclass['label'], predicted_labels))"
   ]
  },
  {
   "cell_type": "code",
   "execution_count": 67,
   "id": "cc6ffb51",
   "metadata": {},
   "outputs": [
    {
     "data": {
      "text/plain": [
       "152"
      ]
     },
     "execution_count": 67,
     "metadata": {},
     "output_type": "execute_result"
    }
   ],
   "source": [
    "#Save the GloVe Multiclass classifier\n",
    "output_dir=\"glove-multiclass-classifier\"\n",
    "torch.save(gloveMulticlassClassifier,output_dir)\n",
    "\n",
    "#Empty the CUDA cache and perform garbage collection to remove unused/unwanted data. Also delete model from memory\n",
    "#If you need the model for any purpose, uncomment the lines of code in the next cell and load the model.\n",
    "torch.cuda.empty_cache()\n",
    "gc.collect()\n",
    "del gloveMulticlassClassifier"
   ]
  },
  {
   "cell_type": "code",
   "execution_count": 68,
   "id": "87c45fd0",
   "metadata": {},
   "outputs": [],
   "source": [
    "#Read the saved model if required\n",
    "#input_dir=\"glove-multiclass-classifier\"\n",
    "#bert_binary_classifier=torch.load(input_dir)"
   ]
  },
  {
   "cell_type": "markdown",
   "id": "ac98879e",
   "metadata": {
    "id": "ac98879e"
   },
   "source": [
    "## **2.2. - BERT Multiclass Classifier**"
   ]
  },
  {
   "cell_type": "code",
   "execution_count": 69,
   "id": "47ba58c2",
   "metadata": {},
   "outputs": [],
   "source": [
    "train_data = Dataset(df_train_multiclass, multiclass_labels)\n",
    "test_data = Dataset(df_test_multiclass, multiclass_labels)\n",
    "validation_data = Dataset(df_validation_multiclass, multiclass_labels)"
   ]
  },
  {
   "cell_type": "code",
   "execution_count": 128,
   "id": "73794c9c",
   "metadata": {},
   "outputs": [],
   "source": [
    "class BertMulticlassClassifier(nn.Module):\n",
    "    \"\"\"\n",
    "    Code adapted from Advanced NLP Week 6 Lab solutions.\n",
    "    This class will define the structure of the neural network used for classification.\n",
    "    It also defines how the output from one layer will be propagated to the next.\n",
    "    This particular netowrk will get the embeddings from the pretrained BERT Model.\n",
    "    \n",
    "    Input Parameters:\n",
    "    input_size: The size of the input data\n",
    "    output_size: The expected number of outputs, labels in the dataset.\n",
    "    dropout: The amount of layers to be randomly turned off to avoid overfitting the data.\n",
    "    \"\"\"\n",
    "    def __init__(self, num_classes=8):\n",
    "        super(BertMulticlassClassifier, self).__init__()\n",
    "        self.bert = BertModel.from_pretrained('bert-base-uncased')\n",
    "        self.dropout = nn.Dropout(0.1)\n",
    "        self.fc1 = nn.Linear(768, 400)\n",
    "        self.fc2 = nn.Linear(400, 100)\n",
    "        self.fc3 = nn.Linear(100, num_classes)\n",
    "        self.leakyrelu = nn.LeakyReLU(0.1)\n",
    "        self.softmax = nn.Softmax(dim=1)\n",
    "\n",
    "    def forward(self, input_ids, attention_mask):\n",
    "        _, pooled_output = self.bert(input_ids=input_ids, attention_mask=attention_mask, return_dict=False)\n",
    "        x = self.fc1(pooled_output)\n",
    "        x = self.leakyrelu(x)\n",
    "        x = self.dropout(x)\n",
    "        x = self.fc2(x)\n",
    "        x = self.leakyrelu(x)\n",
    "        x = self.dropout(x)\n",
    "        x = self.fc3(x)\n",
    "        x = self.leakyrelu(x)\n",
    "        final_output = self.softmax(x)\n",
    "\n",
    "        return final_output"
   ]
  },
  {
   "cell_type": "code",
   "execution_count": 133,
   "id": "74b39f2c",
   "metadata": {},
   "outputs": [
    {
     "name": "stderr",
     "output_type": "stream",
     "text": [
      "Some weights of the model checkpoint at bert-base-uncased were not used when initializing BertModel: ['cls.predictions.decoder.weight', 'cls.predictions.transform.LayerNorm.bias', 'cls.predictions.transform.dense.bias', 'cls.predictions.transform.dense.weight', 'cls.seq_relationship.weight', 'cls.predictions.transform.LayerNorm.weight', 'cls.seq_relationship.bias', 'cls.predictions.bias']\n",
      "- This IS expected if you are initializing BertModel from the checkpoint of a model trained on another task or with another architecture (e.g. initializing a BertForSequenceClassification model from a BertForPreTraining model).\n",
      "- This IS NOT expected if you are initializing BertModel from the checkpoint of a model that you expect to be exactly identical (initializing a BertForSequenceClassification model from a BertForSequenceClassification model).\n"
     ]
    }
   ],
   "source": [
    "EPOCHS=3\n",
    "LR=1e-6\n",
    "model=BertMulticlassClassifier(num_classes=len(multiclass_labels.keys()))\n"
   ]
  },
  {
   "cell_type": "code",
   "execution_count": 134,
   "id": "f8ed22cb",
   "metadata": {},
   "outputs": [
    {
     "name": "stderr",
     "output_type": "stream",
     "text": [
      "100%|██████████| 306/306 [02:35<00:00,  1.96it/s]\n"
     ]
    },
    {
     "name": "stdout",
     "output_type": "stream",
     "text": [
      "Epochs: 1 | Train Loss: 0.520 | Train Accuracy: 0.129\n",
      "Val loss: 1.043 | Val Accuracy: 0.100\n"
     ]
    },
    {
     "name": "stderr",
     "output_type": "stream",
     "text": [
      "100%|██████████| 306/306 [02:44<00:00,  1.86it/s]\n"
     ]
    },
    {
     "name": "stdout",
     "output_type": "stream",
     "text": [
      "Epochs: 2 | Train Loss: 0.520 | Train Accuracy: 0.142\n",
      "Val loss: 1.043 | Val Accuracy: 0.111\n"
     ]
    },
    {
     "name": "stderr",
     "output_type": "stream",
     "text": [
      "100%|██████████| 306/306 [02:45<00:00,  1.85it/s]\n"
     ]
    },
    {
     "name": "stdout",
     "output_type": "stream",
     "text": [
      "Epochs: 3 | Train Loss: 0.520 | Train Accuracy: 0.173\n",
      "Val loss: 1.042 | Val Accuracy: 0.172\n"
     ]
    }
   ],
   "source": [
    "train(model,train_data,validation_data,LR,EPOCHS, 4)"
   ]
  },
  {
   "cell_type": "code",
   "execution_count": 135,
   "id": "VG4iWednbC99",
   "metadata": {
    "id": "VG4iWednbC99"
   },
   "outputs": [
    {
     "name": "stderr",
     "output_type": "stream",
     "text": [
      " 40%|███▉      | 25/63 [00:05<00:08,  4.52it/s]"
     ]
    },
    {
     "name": "stdout",
     "output_type": "stream",
     "text": [
      "Accuracy so far =  0.170\n"
     ]
    },
    {
     "name": "stderr",
     "output_type": "stream",
     "text": [
      " 79%|███████▉  | 50/63 [00:11<00:02,  4.44it/s]"
     ]
    },
    {
     "name": "stdout",
     "output_type": "stream",
     "text": [
      "Accuracy so far =  0.190\n"
     ]
    },
    {
     "name": "stderr",
     "output_type": "stream",
     "text": [
      "100%|██████████| 63/63 [00:14<00:00,  4.48it/s]"
     ]
    },
    {
     "name": "stdout",
     "output_type": "stream",
     "text": [
      "Test accuracy:  0.212\n"
     ]
    },
    {
     "name": "stderr",
     "output_type": "stream",
     "text": [
      "\n"
     ]
    }
   ],
   "source": [
    "predictions, acc=evaluate(model, test_data)"
   ]
  },
  {
   "cell_type": "code",
   "execution_count": 76,
   "id": "5e829e7d",
   "metadata": {
    "id": "5e829e7d"
   },
   "outputs": [],
   "source": [
    "output_dir=\"bert-base-multiclass_classifier\"\n",
    "torch.save(model,output_dir)"
   ]
  },
  {
   "cell_type": "code",
   "execution_count": 127,
   "id": "1c08b0db",
   "metadata": {},
   "outputs": [],
   "source": [
    "#Empty the CUDA cache and perform garbage collection to remove unused/unwanted data. Also delete model from memory\n",
    "#If you need the model for any purpose, uncomment the lines of code in the next cell and load the model.\n",
    "torch.cuda.empty_cache()\n",
    "gc.collect()\n",
    "del model"
   ]
  },
  {
   "cell_type": "code",
   "execution_count": 80,
   "id": "aa305fe9",
   "metadata": {},
   "outputs": [],
   "source": [
    "#Read the saved model if required\n",
    "input_dir=\"bert-base-multiclass_classifier\"\n",
    "model=torch.load(input_dir)"
   ]
  },
  {
   "cell_type": "code",
   "execution_count": 81,
   "id": "Fj4hUfKKbEx0",
   "metadata": {
    "id": "Fj4hUfKKbEx0"
   },
   "outputs": [],
   "source": [
    "def hyperparameter_tuning(mymodel, train_data, validation_data, test_data):\n",
    "    batch_sizes = [2, 4, 8, 16]\n",
    "    learning_rates = [1e-5, 1e-6, 1e-7]\n",
    "    dropout_rates = [0.1, 0.3, 0.5, 0.7]\n",
    "    num_epochs = [1, 2, 3]\n",
    "\n",
    "    best_acc = 0\n",
    "    best_batch_size = 0\n",
    "    best_learning_rate = 0\n",
    "    best_dropout_rate = 0\n",
    "    best_num_epochs = 0\n",
    "\n",
    "    for batch_size in batch_sizes:\n",
    "        for learning_rate in learning_rates:\n",
    "            for dropout_rate in dropout_rates:\n",
    "                for num_epoch in num_epochs:\n",
    "                    train(mymodel, train_data, validation_data multiclass_labels, learning_rate, num_epoch)\n",
    "                    _, acc = evaluate(mymodel, test_data, batchsize=batch_size)\n",
    "                    if acc > best_acc:\n",
    "                        best_acc = acc\n",
    "                        best_batch_size = batch_size\n",
    "                        best_learning_rate = learning_rate\n",
    "                        best_dropout_rate = dropout_rate\n",
    "                        best_num_epochs = num_epoch\n",
    "\n",
    "    print(f\"Best accuracy: {best_acc}\")\n",
    "    print(f\"Best batch size: {best_batch_size}\")\n",
    "    print(f\"Best learning rate: {best_learning_rate}\")\n",
    "    print(f\"Best dropout rate: {best_dropout_rate}\")\n",
    "    print(f\"Best number of epochs: {best_num_epochs}\")\n"
   ]
  },
  {
   "cell_type": "code",
   "execution_count": 82,
   "id": "U88VzXiHg6Zf",
   "metadata": {
    "id": "U88VzXiHg6Zf"
   },
   "outputs": [
    {
     "name": "stderr",
     "output_type": "stream",
     "text": [
      "100%|██████████| 612/612 [02:59<00:00,  3.42it/s]\n"
     ]
    },
    {
     "ename": "KeyError",
     "evalue": "0",
     "output_type": "error",
     "traceback": [
      "\u001b[1;31m---------------------------------------------------------------------------\u001b[0m",
      "\u001b[1;31mKeyError\u001b[0m                                  Traceback (most recent call last)",
      "Cell \u001b[1;32mIn[82], line 1\u001b[0m\n\u001b[1;32m----> 1\u001b[0m \u001b[43mhyperparameter_tuning\u001b[49m\u001b[43m(\u001b[49m\u001b[43mmodel\u001b[49m\u001b[43m,\u001b[49m\u001b[43m \u001b[49m\u001b[43mtrain_data\u001b[49m\u001b[43m,\u001b[49m\u001b[43m \u001b[49m\u001b[43mvalidation_data\u001b[49m\u001b[43m)\u001b[49m\n",
      "Cell \u001b[1;32mIn[81], line 17\u001b[0m, in \u001b[0;36mhyperparameter_tuning\u001b[1;34m(mymodel, train_data, validation_data)\u001b[0m\n\u001b[0;32m     15\u001b[0m \u001b[38;5;28;01mfor\u001b[39;00m dropout_rate \u001b[38;5;129;01min\u001b[39;00m dropout_rates:\n\u001b[0;32m     16\u001b[0m     \u001b[38;5;28;01mfor\u001b[39;00m num_epoch \u001b[38;5;129;01min\u001b[39;00m num_epochs:\n\u001b[1;32m---> 17\u001b[0m         \u001b[43mtrain\u001b[49m\u001b[43m(\u001b[49m\u001b[43mmymodel\u001b[49m\u001b[43m,\u001b[49m\u001b[43m \u001b[49m\u001b[43mtrain_data\u001b[49m\u001b[43m,\u001b[49m\u001b[43m \u001b[49m\u001b[43mmulticlass_labels\u001b[49m\u001b[43m,\u001b[49m\u001b[43m \u001b[49m\u001b[43mlearning_rate\u001b[49m\u001b[43m,\u001b[49m\u001b[43m \u001b[49m\u001b[43mnum_epoch\u001b[49m\u001b[43m)\u001b[49m\n\u001b[0;32m     18\u001b[0m         _, acc \u001b[38;5;241m=\u001b[39m evaluate(mymodel, validation_data, batchsize\u001b[38;5;241m=\u001b[39mbatch_size)\n\u001b[0;32m     19\u001b[0m         \u001b[38;5;28;01mif\u001b[39;00m acc \u001b[38;5;241m>\u001b[39m best_acc:\n",
      "Cell \u001b[1;32mIn[41], line 59\u001b[0m, in \u001b[0;36mtrain\u001b[1;34m(model, train_data, val_data, learning_rate, epochs)\u001b[0m\n\u001b[0;32m     57\u001b[0m model\u001b[38;5;241m.\u001b[39meval()\n\u001b[0;32m     58\u001b[0m \u001b[38;5;28;01mwith\u001b[39;00m torch\u001b[38;5;241m.\u001b[39mno_grad():\n\u001b[1;32m---> 59\u001b[0m     \u001b[38;5;28;01mfor\u001b[39;00m val_input,val_label \u001b[38;5;129;01min\u001b[39;00m val_dataloader:\n\u001b[0;32m     61\u001b[0m         input_id,mask, val_label\u001b[38;5;241m=\u001b[39mprepare_inputs(val_input,val_label,device)\n\u001b[0;32m     63\u001b[0m         output\u001b[38;5;241m=\u001b[39mmodel(input_id,mask)\n",
      "File \u001b[1;32mC:\\Program Files\\Ananconda3_PS\\lib\\site-packages\\torch\\utils\\data\\dataloader.py:634\u001b[0m, in \u001b[0;36m_BaseDataLoaderIter.__next__\u001b[1;34m(self)\u001b[0m\n\u001b[0;32m    631\u001b[0m \u001b[38;5;28;01mif\u001b[39;00m \u001b[38;5;28mself\u001b[39m\u001b[38;5;241m.\u001b[39m_sampler_iter \u001b[38;5;129;01mis\u001b[39;00m \u001b[38;5;28;01mNone\u001b[39;00m:\n\u001b[0;32m    632\u001b[0m     \u001b[38;5;66;03m# TODO(https://github.com/pytorch/pytorch/issues/76750)\u001b[39;00m\n\u001b[0;32m    633\u001b[0m     \u001b[38;5;28mself\u001b[39m\u001b[38;5;241m.\u001b[39m_reset()  \u001b[38;5;66;03m# type: ignore[call-arg]\u001b[39;00m\n\u001b[1;32m--> 634\u001b[0m data \u001b[38;5;241m=\u001b[39m \u001b[38;5;28;43mself\u001b[39;49m\u001b[38;5;241;43m.\u001b[39;49m\u001b[43m_next_data\u001b[49m\u001b[43m(\u001b[49m\u001b[43m)\u001b[49m\n\u001b[0;32m    635\u001b[0m \u001b[38;5;28mself\u001b[39m\u001b[38;5;241m.\u001b[39m_num_yielded \u001b[38;5;241m+\u001b[39m\u001b[38;5;241m=\u001b[39m \u001b[38;5;241m1\u001b[39m\n\u001b[0;32m    636\u001b[0m \u001b[38;5;28;01mif\u001b[39;00m \u001b[38;5;28mself\u001b[39m\u001b[38;5;241m.\u001b[39m_dataset_kind \u001b[38;5;241m==\u001b[39m _DatasetKind\u001b[38;5;241m.\u001b[39mIterable \u001b[38;5;129;01mand\u001b[39;00m \\\n\u001b[0;32m    637\u001b[0m         \u001b[38;5;28mself\u001b[39m\u001b[38;5;241m.\u001b[39m_IterableDataset_len_called \u001b[38;5;129;01mis\u001b[39;00m \u001b[38;5;129;01mnot\u001b[39;00m \u001b[38;5;28;01mNone\u001b[39;00m \u001b[38;5;129;01mand\u001b[39;00m \\\n\u001b[0;32m    638\u001b[0m         \u001b[38;5;28mself\u001b[39m\u001b[38;5;241m.\u001b[39m_num_yielded \u001b[38;5;241m>\u001b[39m \u001b[38;5;28mself\u001b[39m\u001b[38;5;241m.\u001b[39m_IterableDataset_len_called:\n",
      "File \u001b[1;32mC:\\Program Files\\Ananconda3_PS\\lib\\site-packages\\torch\\utils\\data\\dataloader.py:678\u001b[0m, in \u001b[0;36m_SingleProcessDataLoaderIter._next_data\u001b[1;34m(self)\u001b[0m\n\u001b[0;32m    676\u001b[0m \u001b[38;5;28;01mdef\u001b[39;00m \u001b[38;5;21m_next_data\u001b[39m(\u001b[38;5;28mself\u001b[39m):\n\u001b[0;32m    677\u001b[0m     index \u001b[38;5;241m=\u001b[39m \u001b[38;5;28mself\u001b[39m\u001b[38;5;241m.\u001b[39m_next_index()  \u001b[38;5;66;03m# may raise StopIteration\u001b[39;00m\n\u001b[1;32m--> 678\u001b[0m     data \u001b[38;5;241m=\u001b[39m \u001b[38;5;28;43mself\u001b[39;49m\u001b[38;5;241;43m.\u001b[39;49m\u001b[43m_dataset_fetcher\u001b[49m\u001b[38;5;241;43m.\u001b[39;49m\u001b[43mfetch\u001b[49m\u001b[43m(\u001b[49m\u001b[43mindex\u001b[49m\u001b[43m)\u001b[49m  \u001b[38;5;66;03m# may raise StopIteration\u001b[39;00m\n\u001b[0;32m    679\u001b[0m     \u001b[38;5;28;01mif\u001b[39;00m \u001b[38;5;28mself\u001b[39m\u001b[38;5;241m.\u001b[39m_pin_memory:\n\u001b[0;32m    680\u001b[0m         data \u001b[38;5;241m=\u001b[39m _utils\u001b[38;5;241m.\u001b[39mpin_memory\u001b[38;5;241m.\u001b[39mpin_memory(data, \u001b[38;5;28mself\u001b[39m\u001b[38;5;241m.\u001b[39m_pin_memory_device)\n",
      "File \u001b[1;32mC:\\Program Files\\Ananconda3_PS\\lib\\site-packages\\torch\\utils\\data\\_utils\\fetch.py:51\u001b[0m, in \u001b[0;36m_MapDatasetFetcher.fetch\u001b[1;34m(self, possibly_batched_index)\u001b[0m\n\u001b[0;32m     49\u001b[0m         data \u001b[38;5;241m=\u001b[39m \u001b[38;5;28mself\u001b[39m\u001b[38;5;241m.\u001b[39mdataset\u001b[38;5;241m.\u001b[39m__getitems__(possibly_batched_index)\n\u001b[0;32m     50\u001b[0m     \u001b[38;5;28;01melse\u001b[39;00m:\n\u001b[1;32m---> 51\u001b[0m         data \u001b[38;5;241m=\u001b[39m [\u001b[38;5;28mself\u001b[39m\u001b[38;5;241m.\u001b[39mdataset[idx] \u001b[38;5;28;01mfor\u001b[39;00m idx \u001b[38;5;129;01min\u001b[39;00m possibly_batched_index]\n\u001b[0;32m     52\u001b[0m \u001b[38;5;28;01melse\u001b[39;00m:\n\u001b[0;32m     53\u001b[0m     data \u001b[38;5;241m=\u001b[39m \u001b[38;5;28mself\u001b[39m\u001b[38;5;241m.\u001b[39mdataset[possibly_batched_index]\n",
      "File \u001b[1;32mC:\\Program Files\\Ananconda3_PS\\lib\\site-packages\\torch\\utils\\data\\_utils\\fetch.py:51\u001b[0m, in \u001b[0;36m<listcomp>\u001b[1;34m(.0)\u001b[0m\n\u001b[0;32m     49\u001b[0m         data \u001b[38;5;241m=\u001b[39m \u001b[38;5;28mself\u001b[39m\u001b[38;5;241m.\u001b[39mdataset\u001b[38;5;241m.\u001b[39m__getitems__(possibly_batched_index)\n\u001b[0;32m     50\u001b[0m     \u001b[38;5;28;01melse\u001b[39;00m:\n\u001b[1;32m---> 51\u001b[0m         data \u001b[38;5;241m=\u001b[39m [\u001b[38;5;28;43mself\u001b[39;49m\u001b[38;5;241;43m.\u001b[39;49m\u001b[43mdataset\u001b[49m\u001b[43m[\u001b[49m\u001b[43midx\u001b[49m\u001b[43m]\u001b[49m \u001b[38;5;28;01mfor\u001b[39;00m idx \u001b[38;5;129;01min\u001b[39;00m possibly_batched_index]\n\u001b[0;32m     52\u001b[0m \u001b[38;5;28;01melse\u001b[39;00m:\n\u001b[0;32m     53\u001b[0m     data \u001b[38;5;241m=\u001b[39m \u001b[38;5;28mself\u001b[39m\u001b[38;5;241m.\u001b[39mdataset[possibly_batched_index]\n",
      "\u001b[1;31mKeyError\u001b[0m: 0"
     ]
    }
   ],
   "source": [
    "hyperparameter_tuning(model, train_data, validation_data)"
   ]
  },
  {
   "cell_type": "code",
   "execution_count": null,
   "id": "f0f6b005",
   "metadata": {},
   "outputs": [],
   "source": []
  }
 ],
 "metadata": {
  "accelerator": "GPU",
  "colab": {
   "provenance": []
  },
  "gpuClass": "standard",
  "kernelspec": {
   "display_name": "Python 3 (ipykernel)",
   "language": "python",
   "name": "python3"
  },
  "language_info": {
   "codemirror_mode": {
    "name": "ipython",
    "version": 3
   },
   "file_extension": ".py",
   "mimetype": "text/x-python",
   "name": "python",
   "nbconvert_exporter": "python",
   "pygments_lexer": "ipython3",
   "version": "3.10.9"
  },
  "widgets": {
   "application/vnd.jupyter.widget-state+json": {
    "076437b05e054c1fb1d4b6babba8129d": {
     "model_module": "@jupyter-widgets/controls",
     "model_module_version": "1.5.0",
     "model_name": "HTMLModel",
     "state": {
      "_dom_classes": [],
      "_model_module": "@jupyter-widgets/controls",
      "_model_module_version": "1.5.0",
      "_model_name": "HTMLModel",
      "_view_count": null,
      "_view_module": "@jupyter-widgets/controls",
      "_view_module_version": "1.5.0",
      "_view_name": "HTMLView",
      "description": "",
      "description_tooltip": null,
      "layout": "IPY_MODEL_0c921a9133b141ce971f3e89c082594f",
      "placeholder": "​",
      "style": "IPY_MODEL_b8dd8658c6dd42d296a49989745b3845",
      "value": " 570/570 [00:00&lt;00:00, 27.0kB/s]"
     }
    },
    "0b7b98bc34b24e7b9df73a21c78f6272": {
     "model_module": "@jupyter-widgets/controls",
     "model_module_version": "1.5.0",
     "model_name": "ProgressStyleModel",
     "state": {
      "_model_module": "@jupyter-widgets/controls",
      "_model_module_version": "1.5.0",
      "_model_name": "ProgressStyleModel",
      "_view_count": null,
      "_view_module": "@jupyter-widgets/base",
      "_view_module_version": "1.2.0",
      "_view_name": "StyleView",
      "bar_color": null,
      "description_width": ""
     }
    },
    "0c921a9133b141ce971f3e89c082594f": {
     "model_module": "@jupyter-widgets/base",
     "model_module_version": "1.2.0",
     "model_name": "LayoutModel",
     "state": {
      "_model_module": "@jupyter-widgets/base",
      "_model_module_version": "1.2.0",
      "_model_name": "LayoutModel",
      "_view_count": null,
      "_view_module": "@jupyter-widgets/base",
      "_view_module_version": "1.2.0",
      "_view_name": "LayoutView",
      "align_content": null,
      "align_items": null,
      "align_self": null,
      "border": null,
      "bottom": null,
      "display": null,
      "flex": null,
      "flex_flow": null,
      "grid_area": null,
      "grid_auto_columns": null,
      "grid_auto_flow": null,
      "grid_auto_rows": null,
      "grid_column": null,
      "grid_gap": null,
      "grid_row": null,
      "grid_template_areas": null,
      "grid_template_columns": null,
      "grid_template_rows": null,
      "height": null,
      "justify_content": null,
      "justify_items": null,
      "left": null,
      "margin": null,
      "max_height": null,
      "max_width": null,
      "min_height": null,
      "min_width": null,
      "object_fit": null,
      "object_position": null,
      "order": null,
      "overflow": null,
      "overflow_x": null,
      "overflow_y": null,
      "padding": null,
      "right": null,
      "top": null,
      "visibility": null,
      "width": null
     }
    },
    "0d57aa1ab05a4df69b9ba8866af342ca": {
     "model_module": "@jupyter-widgets/controls",
     "model_module_version": "1.5.0",
     "model_name": "HTMLModel",
     "state": {
      "_dom_classes": [],
      "_model_module": "@jupyter-widgets/controls",
      "_model_module_version": "1.5.0",
      "_model_name": "HTMLModel",
      "_view_count": null,
      "_view_module": "@jupyter-widgets/controls",
      "_view_module_version": "1.5.0",
      "_view_name": "HTMLView",
      "description": "",
      "description_tooltip": null,
      "layout": "IPY_MODEL_1aa9725231c04d428bb104452390bfb8",
      "placeholder": "​",
      "style": "IPY_MODEL_1b71a69a0d7f47cfa6df3222de1dd387",
      "value": "Downloading (…)okenizer_config.json: 100%"
     }
    },
    "118a5a0bac274e1da2c8e92491d560ff": {
     "model_module": "@jupyter-widgets/controls",
     "model_module_version": "1.5.0",
     "model_name": "DescriptionStyleModel",
     "state": {
      "_model_module": "@jupyter-widgets/controls",
      "_model_module_version": "1.5.0",
      "_model_name": "DescriptionStyleModel",
      "_view_count": null,
      "_view_module": "@jupyter-widgets/base",
      "_view_module_version": "1.2.0",
      "_view_name": "StyleView",
      "description_width": ""
     }
    },
    "128dffb1324c463192351aef4652e638": {
     "model_module": "@jupyter-widgets/controls",
     "model_module_version": "1.5.0",
     "model_name": "HTMLModel",
     "state": {
      "_dom_classes": [],
      "_model_module": "@jupyter-widgets/controls",
      "_model_module_version": "1.5.0",
      "_model_name": "HTMLModel",
      "_view_count": null,
      "_view_module": "@jupyter-widgets/controls",
      "_view_module_version": "1.5.0",
      "_view_name": "HTMLView",
      "description": "",
      "description_tooltip": null,
      "layout": "IPY_MODEL_a4171e1e3e874f21aa11e0e11360c4a8",
      "placeholder": "​",
      "style": "IPY_MODEL_e66ab1d288494e849909ae5304cc9377",
      "value": " 440M/440M [00:02&lt;00:00, 223MB/s]"
     }
    },
    "15266e8066c5475aa0b6348f7b98aa84": {
     "model_module": "@jupyter-widgets/base",
     "model_module_version": "1.2.0",
     "model_name": "LayoutModel",
     "state": {
      "_model_module": "@jupyter-widgets/base",
      "_model_module_version": "1.2.0",
      "_model_name": "LayoutModel",
      "_view_count": null,
      "_view_module": "@jupyter-widgets/base",
      "_view_module_version": "1.2.0",
      "_view_name": "LayoutView",
      "align_content": null,
      "align_items": null,
      "align_self": null,
      "border": null,
      "bottom": null,
      "display": null,
      "flex": null,
      "flex_flow": null,
      "grid_area": null,
      "grid_auto_columns": null,
      "grid_auto_flow": null,
      "grid_auto_rows": null,
      "grid_column": null,
      "grid_gap": null,
      "grid_row": null,
      "grid_template_areas": null,
      "grid_template_columns": null,
      "grid_template_rows": null,
      "height": null,
      "justify_content": null,
      "justify_items": null,
      "left": null,
      "margin": null,
      "max_height": null,
      "max_width": null,
      "min_height": null,
      "min_width": null,
      "object_fit": null,
      "object_position": null,
      "order": null,
      "overflow": null,
      "overflow_x": null,
      "overflow_y": null,
      "padding": null,
      "right": null,
      "top": null,
      "visibility": null,
      "width": null
     }
    },
    "1aa9725231c04d428bb104452390bfb8": {
     "model_module": "@jupyter-widgets/base",
     "model_module_version": "1.2.0",
     "model_name": "LayoutModel",
     "state": {
      "_model_module": "@jupyter-widgets/base",
      "_model_module_version": "1.2.0",
      "_model_name": "LayoutModel",
      "_view_count": null,
      "_view_module": "@jupyter-widgets/base",
      "_view_module_version": "1.2.0",
      "_view_name": "LayoutView",
      "align_content": null,
      "align_items": null,
      "align_self": null,
      "border": null,
      "bottom": null,
      "display": null,
      "flex": null,
      "flex_flow": null,
      "grid_area": null,
      "grid_auto_columns": null,
      "grid_auto_flow": null,
      "grid_auto_rows": null,
      "grid_column": null,
      "grid_gap": null,
      "grid_row": null,
      "grid_template_areas": null,
      "grid_template_columns": null,
      "grid_template_rows": null,
      "height": null,
      "justify_content": null,
      "justify_items": null,
      "left": null,
      "margin": null,
      "max_height": null,
      "max_width": null,
      "min_height": null,
      "min_width": null,
      "object_fit": null,
      "object_position": null,
      "order": null,
      "overflow": null,
      "overflow_x": null,
      "overflow_y": null,
      "padding": null,
      "right": null,
      "top": null,
      "visibility": null,
      "width": null
     }
    },
    "1b71a69a0d7f47cfa6df3222de1dd387": {
     "model_module": "@jupyter-widgets/controls",
     "model_module_version": "1.5.0",
     "model_name": "DescriptionStyleModel",
     "state": {
      "_model_module": "@jupyter-widgets/controls",
      "_model_module_version": "1.5.0",
      "_model_name": "DescriptionStyleModel",
      "_view_count": null,
      "_view_module": "@jupyter-widgets/base",
      "_view_module_version": "1.2.0",
      "_view_name": "StyleView",
      "description_width": ""
     }
    },
    "234caeb768cc475c86c01ff60f651fda": {
     "model_module": "@jupyter-widgets/controls",
     "model_module_version": "1.5.0",
     "model_name": "HBoxModel",
     "state": {
      "_dom_classes": [],
      "_model_module": "@jupyter-widgets/controls",
      "_model_module_version": "1.5.0",
      "_model_name": "HBoxModel",
      "_view_count": null,
      "_view_module": "@jupyter-widgets/controls",
      "_view_module_version": "1.5.0",
      "_view_name": "HBoxView",
      "box_style": "",
      "children": [
       "IPY_MODEL_c1a3ab750c4b45e6a31523eae419c414",
       "IPY_MODEL_299c7a3292854fc3b7e1a5a5a2219623",
       "IPY_MODEL_128dffb1324c463192351aef4652e638"
      ],
      "layout": "IPY_MODEL_d2270e44d1a549df98f3bbb27aef92a4"
     }
    },
    "299c7a3292854fc3b7e1a5a5a2219623": {
     "model_module": "@jupyter-widgets/controls",
     "model_module_version": "1.5.0",
     "model_name": "FloatProgressModel",
     "state": {
      "_dom_classes": [],
      "_model_module": "@jupyter-widgets/controls",
      "_model_module_version": "1.5.0",
      "_model_name": "FloatProgressModel",
      "_view_count": null,
      "_view_module": "@jupyter-widgets/controls",
      "_view_module_version": "1.5.0",
      "_view_name": "ProgressView",
      "bar_style": "success",
      "description": "",
      "description_tooltip": null,
      "layout": "IPY_MODEL_afd530bfe94a4084a189adb261e7df78",
      "max": 440473133,
      "min": 0,
      "orientation": "horizontal",
      "style": "IPY_MODEL_0b7b98bc34b24e7b9df73a21c78f6272",
      "value": 440473133
     }
    },
    "3c617c33befa462bbf00a10097a1e59a": {
     "model_module": "@jupyter-widgets/base",
     "model_module_version": "1.2.0",
     "model_name": "LayoutModel",
     "state": {
      "_model_module": "@jupyter-widgets/base",
      "_model_module_version": "1.2.0",
      "_model_name": "LayoutModel",
      "_view_count": null,
      "_view_module": "@jupyter-widgets/base",
      "_view_module_version": "1.2.0",
      "_view_name": "LayoutView",
      "align_content": null,
      "align_items": null,
      "align_self": null,
      "border": null,
      "bottom": null,
      "display": null,
      "flex": null,
      "flex_flow": null,
      "grid_area": null,
      "grid_auto_columns": null,
      "grid_auto_flow": null,
      "grid_auto_rows": null,
      "grid_column": null,
      "grid_gap": null,
      "grid_row": null,
      "grid_template_areas": null,
      "grid_template_columns": null,
      "grid_template_rows": null,
      "height": null,
      "justify_content": null,
      "justify_items": null,
      "left": null,
      "margin": null,
      "max_height": null,
      "max_width": null,
      "min_height": null,
      "min_width": null,
      "object_fit": null,
      "object_position": null,
      "order": null,
      "overflow": null,
      "overflow_x": null,
      "overflow_y": null,
      "padding": null,
      "right": null,
      "top": null,
      "visibility": null,
      "width": null
     }
    },
    "401064bbff8b4583bc862e7a63620e9d": {
     "model_module": "@jupyter-widgets/controls",
     "model_module_version": "1.5.0",
     "model_name": "FloatProgressModel",
     "state": {
      "_dom_classes": [],
      "_model_module": "@jupyter-widgets/controls",
      "_model_module_version": "1.5.0",
      "_model_name": "FloatProgressModel",
      "_view_count": null,
      "_view_module": "@jupyter-widgets/controls",
      "_view_module_version": "1.5.0",
      "_view_name": "ProgressView",
      "bar_style": "success",
      "description": "",
      "description_tooltip": null,
      "layout": "IPY_MODEL_64b2a24d6ae54f0db58d31f8f611af8a",
      "max": 570,
      "min": 0,
      "orientation": "horizontal",
      "style": "IPY_MODEL_dd6583034cfa461cb504e4d6a2261a9e",
      "value": 570
     }
    },
    "50fcfb75bd0e4bfca0b86822fd80a58c": {
     "model_module": "@jupyter-widgets/controls",
     "model_module_version": "1.5.0",
     "model_name": "FloatProgressModel",
     "state": {
      "_dom_classes": [],
      "_model_module": "@jupyter-widgets/controls",
      "_model_module_version": "1.5.0",
      "_model_name": "FloatProgressModel",
      "_view_count": null,
      "_view_module": "@jupyter-widgets/controls",
      "_view_module_version": "1.5.0",
      "_view_name": "ProgressView",
      "bar_style": "success",
      "description": "",
      "description_tooltip": null,
      "layout": "IPY_MODEL_d0ae499bbdca4ce6baa258d3321502f1",
      "max": 231508,
      "min": 0,
      "orientation": "horizontal",
      "style": "IPY_MODEL_b3a1fcb1c6704f0f91733d5190a9fce8",
      "value": 231508
     }
    },
    "540b6a869e594f45a2b66192275a0289": {
     "model_module": "@jupyter-widgets/base",
     "model_module_version": "1.2.0",
     "model_name": "LayoutModel",
     "state": {
      "_model_module": "@jupyter-widgets/base",
      "_model_module_version": "1.2.0",
      "_model_name": "LayoutModel",
      "_view_count": null,
      "_view_module": "@jupyter-widgets/base",
      "_view_module_version": "1.2.0",
      "_view_name": "LayoutView",
      "align_content": null,
      "align_items": null,
      "align_self": null,
      "border": null,
      "bottom": null,
      "display": null,
      "flex": null,
      "flex_flow": null,
      "grid_area": null,
      "grid_auto_columns": null,
      "grid_auto_flow": null,
      "grid_auto_rows": null,
      "grid_column": null,
      "grid_gap": null,
      "grid_row": null,
      "grid_template_areas": null,
      "grid_template_columns": null,
      "grid_template_rows": null,
      "height": null,
      "justify_content": null,
      "justify_items": null,
      "left": null,
      "margin": null,
      "max_height": null,
      "max_width": null,
      "min_height": null,
      "min_width": null,
      "object_fit": null,
      "object_position": null,
      "order": null,
      "overflow": null,
      "overflow_x": null,
      "overflow_y": null,
      "padding": null,
      "right": null,
      "top": null,
      "visibility": null,
      "width": null
     }
    },
    "5d736b4feec8425b89158293adaf0bd1": {
     "model_module": "@jupyter-widgets/controls",
     "model_module_version": "1.5.0",
     "model_name": "HTMLModel",
     "state": {
      "_dom_classes": [],
      "_model_module": "@jupyter-widgets/controls",
      "_model_module_version": "1.5.0",
      "_model_name": "HTMLModel",
      "_view_count": null,
      "_view_module": "@jupyter-widgets/controls",
      "_view_module_version": "1.5.0",
      "_view_name": "HTMLView",
      "description": "",
      "description_tooltip": null,
      "layout": "IPY_MODEL_bfa6fadc19b24ac48b837236fd264944",
      "placeholder": "​",
      "style": "IPY_MODEL_b3a22bd1ec5b4ee4bdb9a2ad34c036a4",
      "value": "Downloading (…)lve/main/config.json: 100%"
     }
    },
    "5ead4e14d1a549b880fcce0fbf6704e1": {
     "model_module": "@jupyter-widgets/controls",
     "model_module_version": "1.5.0",
     "model_name": "HBoxModel",
     "state": {
      "_dom_classes": [],
      "_model_module": "@jupyter-widgets/controls",
      "_model_module_version": "1.5.0",
      "_model_name": "HBoxModel",
      "_view_count": null,
      "_view_module": "@jupyter-widgets/controls",
      "_view_module_version": "1.5.0",
      "_view_name": "HBoxView",
      "box_style": "",
      "children": [
       "IPY_MODEL_77b76d8cd7d745baaa70aa0005c882c8",
       "IPY_MODEL_50fcfb75bd0e4bfca0b86822fd80a58c",
       "IPY_MODEL_8b3de6ae26db4a7d94a6e47d4641cf93"
      ],
      "layout": "IPY_MODEL_15266e8066c5475aa0b6348f7b98aa84"
     }
    },
    "64b2a24d6ae54f0db58d31f8f611af8a": {
     "model_module": "@jupyter-widgets/base",
     "model_module_version": "1.2.0",
     "model_name": "LayoutModel",
     "state": {
      "_model_module": "@jupyter-widgets/base",
      "_model_module_version": "1.2.0",
      "_model_name": "LayoutModel",
      "_view_count": null,
      "_view_module": "@jupyter-widgets/base",
      "_view_module_version": "1.2.0",
      "_view_name": "LayoutView",
      "align_content": null,
      "align_items": null,
      "align_self": null,
      "border": null,
      "bottom": null,
      "display": null,
      "flex": null,
      "flex_flow": null,
      "grid_area": null,
      "grid_auto_columns": null,
      "grid_auto_flow": null,
      "grid_auto_rows": null,
      "grid_column": null,
      "grid_gap": null,
      "grid_row": null,
      "grid_template_areas": null,
      "grid_template_columns": null,
      "grid_template_rows": null,
      "height": null,
      "justify_content": null,
      "justify_items": null,
      "left": null,
      "margin": null,
      "max_height": null,
      "max_width": null,
      "min_height": null,
      "min_width": null,
      "object_fit": null,
      "object_position": null,
      "order": null,
      "overflow": null,
      "overflow_x": null,
      "overflow_y": null,
      "padding": null,
      "right": null,
      "top": null,
      "visibility": null,
      "width": null
     }
    },
    "74d58f206035402bad71f65e78426280": {
     "model_module": "@jupyter-widgets/controls",
     "model_module_version": "1.5.0",
     "model_name": "DescriptionStyleModel",
     "state": {
      "_model_module": "@jupyter-widgets/controls",
      "_model_module_version": "1.5.0",
      "_model_name": "DescriptionStyleModel",
      "_view_count": null,
      "_view_module": "@jupyter-widgets/base",
      "_view_module_version": "1.2.0",
      "_view_name": "StyleView",
      "description_width": ""
     }
    },
    "77b76d8cd7d745baaa70aa0005c882c8": {
     "model_module": "@jupyter-widgets/controls",
     "model_module_version": "1.5.0",
     "model_name": "HTMLModel",
     "state": {
      "_dom_classes": [],
      "_model_module": "@jupyter-widgets/controls",
      "_model_module_version": "1.5.0",
      "_model_name": "HTMLModel",
      "_view_count": null,
      "_view_module": "@jupyter-widgets/controls",
      "_view_module_version": "1.5.0",
      "_view_name": "HTMLView",
      "description": "",
      "description_tooltip": null,
      "layout": "IPY_MODEL_83ec92e54e6d4355863a3ba1f0c33394",
      "placeholder": "​",
      "style": "IPY_MODEL_74d58f206035402bad71f65e78426280",
      "value": "Downloading (…)solve/main/vocab.txt: 100%"
     }
    },
    "79af139548b248bf8eec1a16fa5f67df": {
     "model_module": "@jupyter-widgets/controls",
     "model_module_version": "1.5.0",
     "model_name": "FloatProgressModel",
     "state": {
      "_dom_classes": [],
      "_model_module": "@jupyter-widgets/controls",
      "_model_module_version": "1.5.0",
      "_model_name": "FloatProgressModel",
      "_view_count": null,
      "_view_module": "@jupyter-widgets/controls",
      "_view_module_version": "1.5.0",
      "_view_name": "ProgressView",
      "bar_style": "success",
      "description": "",
      "description_tooltip": null,
      "layout": "IPY_MODEL_8d91f5071edf4c089f29c879471408ef",
      "max": 28,
      "min": 0,
      "orientation": "horizontal",
      "style": "IPY_MODEL_a39f5549e0874ba4b8556249d952fbf4",
      "value": 28
     }
    },
    "79d3d9cccd3b4f3ca0a9c2edb4ec9356": {
     "model_module": "@jupyter-widgets/controls",
     "model_module_version": "1.5.0",
     "model_name": "HTMLModel",
     "state": {
      "_dom_classes": [],
      "_model_module": "@jupyter-widgets/controls",
      "_model_module_version": "1.5.0",
      "_model_name": "HTMLModel",
      "_view_count": null,
      "_view_module": "@jupyter-widgets/controls",
      "_view_module_version": "1.5.0",
      "_view_name": "HTMLView",
      "description": "",
      "description_tooltip": null,
      "layout": "IPY_MODEL_3c617c33befa462bbf00a10097a1e59a",
      "placeholder": "​",
      "style": "IPY_MODEL_118a5a0bac274e1da2c8e92491d560ff",
      "value": " 28.0/28.0 [00:00&lt;00:00, 1.57kB/s]"
     }
    },
    "7f3f85d42de644fc8f765b49fc5604c4": {
     "model_module": "@jupyter-widgets/base",
     "model_module_version": "1.2.0",
     "model_name": "LayoutModel",
     "state": {
      "_model_module": "@jupyter-widgets/base",
      "_model_module_version": "1.2.0",
      "_model_name": "LayoutModel",
      "_view_count": null,
      "_view_module": "@jupyter-widgets/base",
      "_view_module_version": "1.2.0",
      "_view_name": "LayoutView",
      "align_content": null,
      "align_items": null,
      "align_self": null,
      "border": null,
      "bottom": null,
      "display": null,
      "flex": null,
      "flex_flow": null,
      "grid_area": null,
      "grid_auto_columns": null,
      "grid_auto_flow": null,
      "grid_auto_rows": null,
      "grid_column": null,
      "grid_gap": null,
      "grid_row": null,
      "grid_template_areas": null,
      "grid_template_columns": null,
      "grid_template_rows": null,
      "height": null,
      "justify_content": null,
      "justify_items": null,
      "left": null,
      "margin": null,
      "max_height": null,
      "max_width": null,
      "min_height": null,
      "min_width": null,
      "object_fit": null,
      "object_position": null,
      "order": null,
      "overflow": null,
      "overflow_x": null,
      "overflow_y": null,
      "padding": null,
      "right": null,
      "top": null,
      "visibility": null,
      "width": null
     }
    },
    "83ec92e54e6d4355863a3ba1f0c33394": {
     "model_module": "@jupyter-widgets/base",
     "model_module_version": "1.2.0",
     "model_name": "LayoutModel",
     "state": {
      "_model_module": "@jupyter-widgets/base",
      "_model_module_version": "1.2.0",
      "_model_name": "LayoutModel",
      "_view_count": null,
      "_view_module": "@jupyter-widgets/base",
      "_view_module_version": "1.2.0",
      "_view_name": "LayoutView",
      "align_content": null,
      "align_items": null,
      "align_self": null,
      "border": null,
      "bottom": null,
      "display": null,
      "flex": null,
      "flex_flow": null,
      "grid_area": null,
      "grid_auto_columns": null,
      "grid_auto_flow": null,
      "grid_auto_rows": null,
      "grid_column": null,
      "grid_gap": null,
      "grid_row": null,
      "grid_template_areas": null,
      "grid_template_columns": null,
      "grid_template_rows": null,
      "height": null,
      "justify_content": null,
      "justify_items": null,
      "left": null,
      "margin": null,
      "max_height": null,
      "max_width": null,
      "min_height": null,
      "min_width": null,
      "object_fit": null,
      "object_position": null,
      "order": null,
      "overflow": null,
      "overflow_x": null,
      "overflow_y": null,
      "padding": null,
      "right": null,
      "top": null,
      "visibility": null,
      "width": null
     }
    },
    "8b3de6ae26db4a7d94a6e47d4641cf93": {
     "model_module": "@jupyter-widgets/controls",
     "model_module_version": "1.5.0",
     "model_name": "HTMLModel",
     "state": {
      "_dom_classes": [],
      "_model_module": "@jupyter-widgets/controls",
      "_model_module_version": "1.5.0",
      "_model_name": "HTMLModel",
      "_view_count": null,
      "_view_module": "@jupyter-widgets/controls",
      "_view_module_version": "1.5.0",
      "_view_name": "HTMLView",
      "description": "",
      "description_tooltip": null,
      "layout": "IPY_MODEL_cd333cfe3f874834aa7d466d6c94112b",
      "placeholder": "​",
      "style": "IPY_MODEL_ffe3cb40f870406fb811fd1cd70f1a1e",
      "value": " 232k/232k [00:00&lt;00:00, 3.33MB/s]"
     }
    },
    "8d91f5071edf4c089f29c879471408ef": {
     "model_module": "@jupyter-widgets/base",
     "model_module_version": "1.2.0",
     "model_name": "LayoutModel",
     "state": {
      "_model_module": "@jupyter-widgets/base",
      "_model_module_version": "1.2.0",
      "_model_name": "LayoutModel",
      "_view_count": null,
      "_view_module": "@jupyter-widgets/base",
      "_view_module_version": "1.2.0",
      "_view_name": "LayoutView",
      "align_content": null,
      "align_items": null,
      "align_self": null,
      "border": null,
      "bottom": null,
      "display": null,
      "flex": null,
      "flex_flow": null,
      "grid_area": null,
      "grid_auto_columns": null,
      "grid_auto_flow": null,
      "grid_auto_rows": null,
      "grid_column": null,
      "grid_gap": null,
      "grid_row": null,
      "grid_template_areas": null,
      "grid_template_columns": null,
      "grid_template_rows": null,
      "height": null,
      "justify_content": null,
      "justify_items": null,
      "left": null,
      "margin": null,
      "max_height": null,
      "max_width": null,
      "min_height": null,
      "min_width": null,
      "object_fit": null,
      "object_position": null,
      "order": null,
      "overflow": null,
      "overflow_x": null,
      "overflow_y": null,
      "padding": null,
      "right": null,
      "top": null,
      "visibility": null,
      "width": null
     }
    },
    "8ddc46be9b654aa5b5a3c65a7b51a9db": {
     "model_module": "@jupyter-widgets/controls",
     "model_module_version": "1.5.0",
     "model_name": "HBoxModel",
     "state": {
      "_dom_classes": [],
      "_model_module": "@jupyter-widgets/controls",
      "_model_module_version": "1.5.0",
      "_model_name": "HBoxModel",
      "_view_count": null,
      "_view_module": "@jupyter-widgets/controls",
      "_view_module_version": "1.5.0",
      "_view_name": "HBoxView",
      "box_style": "",
      "children": [
       "IPY_MODEL_0d57aa1ab05a4df69b9ba8866af342ca",
       "IPY_MODEL_79af139548b248bf8eec1a16fa5f67df",
       "IPY_MODEL_79d3d9cccd3b4f3ca0a9c2edb4ec9356"
      ],
      "layout": "IPY_MODEL_540b6a869e594f45a2b66192275a0289"
     }
    },
    "a39f5549e0874ba4b8556249d952fbf4": {
     "model_module": "@jupyter-widgets/controls",
     "model_module_version": "1.5.0",
     "model_name": "ProgressStyleModel",
     "state": {
      "_model_module": "@jupyter-widgets/controls",
      "_model_module_version": "1.5.0",
      "_model_name": "ProgressStyleModel",
      "_view_count": null,
      "_view_module": "@jupyter-widgets/base",
      "_view_module_version": "1.2.0",
      "_view_name": "StyleView",
      "bar_color": null,
      "description_width": ""
     }
    },
    "a4171e1e3e874f21aa11e0e11360c4a8": {
     "model_module": "@jupyter-widgets/base",
     "model_module_version": "1.2.0",
     "model_name": "LayoutModel",
     "state": {
      "_model_module": "@jupyter-widgets/base",
      "_model_module_version": "1.2.0",
      "_model_name": "LayoutModel",
      "_view_count": null,
      "_view_module": "@jupyter-widgets/base",
      "_view_module_version": "1.2.0",
      "_view_name": "LayoutView",
      "align_content": null,
      "align_items": null,
      "align_self": null,
      "border": null,
      "bottom": null,
      "display": null,
      "flex": null,
      "flex_flow": null,
      "grid_area": null,
      "grid_auto_columns": null,
      "grid_auto_flow": null,
      "grid_auto_rows": null,
      "grid_column": null,
      "grid_gap": null,
      "grid_row": null,
      "grid_template_areas": null,
      "grid_template_columns": null,
      "grid_template_rows": null,
      "height": null,
      "justify_content": null,
      "justify_items": null,
      "left": null,
      "margin": null,
      "max_height": null,
      "max_width": null,
      "min_height": null,
      "min_width": null,
      "object_fit": null,
      "object_position": null,
      "order": null,
      "overflow": null,
      "overflow_x": null,
      "overflow_y": null,
      "padding": null,
      "right": null,
      "top": null,
      "visibility": null,
      "width": null
     }
    },
    "afd530bfe94a4084a189adb261e7df78": {
     "model_module": "@jupyter-widgets/base",
     "model_module_version": "1.2.0",
     "model_name": "LayoutModel",
     "state": {
      "_model_module": "@jupyter-widgets/base",
      "_model_module_version": "1.2.0",
      "_model_name": "LayoutModel",
      "_view_count": null,
      "_view_module": "@jupyter-widgets/base",
      "_view_module_version": "1.2.0",
      "_view_name": "LayoutView",
      "align_content": null,
      "align_items": null,
      "align_self": null,
      "border": null,
      "bottom": null,
      "display": null,
      "flex": null,
      "flex_flow": null,
      "grid_area": null,
      "grid_auto_columns": null,
      "grid_auto_flow": null,
      "grid_auto_rows": null,
      "grid_column": null,
      "grid_gap": null,
      "grid_row": null,
      "grid_template_areas": null,
      "grid_template_columns": null,
      "grid_template_rows": null,
      "height": null,
      "justify_content": null,
      "justify_items": null,
      "left": null,
      "margin": null,
      "max_height": null,
      "max_width": null,
      "min_height": null,
      "min_width": null,
      "object_fit": null,
      "object_position": null,
      "order": null,
      "overflow": null,
      "overflow_x": null,
      "overflow_y": null,
      "padding": null,
      "right": null,
      "top": null,
      "visibility": null,
      "width": null
     }
    },
    "b3a1fcb1c6704f0f91733d5190a9fce8": {
     "model_module": "@jupyter-widgets/controls",
     "model_module_version": "1.5.0",
     "model_name": "ProgressStyleModel",
     "state": {
      "_model_module": "@jupyter-widgets/controls",
      "_model_module_version": "1.5.0",
      "_model_name": "ProgressStyleModel",
      "_view_count": null,
      "_view_module": "@jupyter-widgets/base",
      "_view_module_version": "1.2.0",
      "_view_name": "StyleView",
      "bar_color": null,
      "description_width": ""
     }
    },
    "b3a22bd1ec5b4ee4bdb9a2ad34c036a4": {
     "model_module": "@jupyter-widgets/controls",
     "model_module_version": "1.5.0",
     "model_name": "DescriptionStyleModel",
     "state": {
      "_model_module": "@jupyter-widgets/controls",
      "_model_module_version": "1.5.0",
      "_model_name": "DescriptionStyleModel",
      "_view_count": null,
      "_view_module": "@jupyter-widgets/base",
      "_view_module_version": "1.2.0",
      "_view_name": "StyleView",
      "description_width": ""
     }
    },
    "b8dd8658c6dd42d296a49989745b3845": {
     "model_module": "@jupyter-widgets/controls",
     "model_module_version": "1.5.0",
     "model_name": "DescriptionStyleModel",
     "state": {
      "_model_module": "@jupyter-widgets/controls",
      "_model_module_version": "1.5.0",
      "_model_name": "DescriptionStyleModel",
      "_view_count": null,
      "_view_module": "@jupyter-widgets/base",
      "_view_module_version": "1.2.0",
      "_view_name": "StyleView",
      "description_width": ""
     }
    },
    "bfa6fadc19b24ac48b837236fd264944": {
     "model_module": "@jupyter-widgets/base",
     "model_module_version": "1.2.0",
     "model_name": "LayoutModel",
     "state": {
      "_model_module": "@jupyter-widgets/base",
      "_model_module_version": "1.2.0",
      "_model_name": "LayoutModel",
      "_view_count": null,
      "_view_module": "@jupyter-widgets/base",
      "_view_module_version": "1.2.0",
      "_view_name": "LayoutView",
      "align_content": null,
      "align_items": null,
      "align_self": null,
      "border": null,
      "bottom": null,
      "display": null,
      "flex": null,
      "flex_flow": null,
      "grid_area": null,
      "grid_auto_columns": null,
      "grid_auto_flow": null,
      "grid_auto_rows": null,
      "grid_column": null,
      "grid_gap": null,
      "grid_row": null,
      "grid_template_areas": null,
      "grid_template_columns": null,
      "grid_template_rows": null,
      "height": null,
      "justify_content": null,
      "justify_items": null,
      "left": null,
      "margin": null,
      "max_height": null,
      "max_width": null,
      "min_height": null,
      "min_width": null,
      "object_fit": null,
      "object_position": null,
      "order": null,
      "overflow": null,
      "overflow_x": null,
      "overflow_y": null,
      "padding": null,
      "right": null,
      "top": null,
      "visibility": null,
      "width": null
     }
    },
    "c1a3ab750c4b45e6a31523eae419c414": {
     "model_module": "@jupyter-widgets/controls",
     "model_module_version": "1.5.0",
     "model_name": "HTMLModel",
     "state": {
      "_dom_classes": [],
      "_model_module": "@jupyter-widgets/controls",
      "_model_module_version": "1.5.0",
      "_model_name": "HTMLModel",
      "_view_count": null,
      "_view_module": "@jupyter-widgets/controls",
      "_view_module_version": "1.5.0",
      "_view_name": "HTMLView",
      "description": "",
      "description_tooltip": null,
      "layout": "IPY_MODEL_7f3f85d42de644fc8f765b49fc5604c4",
      "placeholder": "​",
      "style": "IPY_MODEL_e977c0f473554585903fbfabb10e3f29",
      "value": "Downloading pytorch_model.bin: 100%"
     }
    },
    "cd333cfe3f874834aa7d466d6c94112b": {
     "model_module": "@jupyter-widgets/base",
     "model_module_version": "1.2.0",
     "model_name": "LayoutModel",
     "state": {
      "_model_module": "@jupyter-widgets/base",
      "_model_module_version": "1.2.0",
      "_model_name": "LayoutModel",
      "_view_count": null,
      "_view_module": "@jupyter-widgets/base",
      "_view_module_version": "1.2.0",
      "_view_name": "LayoutView",
      "align_content": null,
      "align_items": null,
      "align_self": null,
      "border": null,
      "bottom": null,
      "display": null,
      "flex": null,
      "flex_flow": null,
      "grid_area": null,
      "grid_auto_columns": null,
      "grid_auto_flow": null,
      "grid_auto_rows": null,
      "grid_column": null,
      "grid_gap": null,
      "grid_row": null,
      "grid_template_areas": null,
      "grid_template_columns": null,
      "grid_template_rows": null,
      "height": null,
      "justify_content": null,
      "justify_items": null,
      "left": null,
      "margin": null,
      "max_height": null,
      "max_width": null,
      "min_height": null,
      "min_width": null,
      "object_fit": null,
      "object_position": null,
      "order": null,
      "overflow": null,
      "overflow_x": null,
      "overflow_y": null,
      "padding": null,
      "right": null,
      "top": null,
      "visibility": null,
      "width": null
     }
    },
    "d0ae499bbdca4ce6baa258d3321502f1": {
     "model_module": "@jupyter-widgets/base",
     "model_module_version": "1.2.0",
     "model_name": "LayoutModel",
     "state": {
      "_model_module": "@jupyter-widgets/base",
      "_model_module_version": "1.2.0",
      "_model_name": "LayoutModel",
      "_view_count": null,
      "_view_module": "@jupyter-widgets/base",
      "_view_module_version": "1.2.0",
      "_view_name": "LayoutView",
      "align_content": null,
      "align_items": null,
      "align_self": null,
      "border": null,
      "bottom": null,
      "display": null,
      "flex": null,
      "flex_flow": null,
      "grid_area": null,
      "grid_auto_columns": null,
      "grid_auto_flow": null,
      "grid_auto_rows": null,
      "grid_column": null,
      "grid_gap": null,
      "grid_row": null,
      "grid_template_areas": null,
      "grid_template_columns": null,
      "grid_template_rows": null,
      "height": null,
      "justify_content": null,
      "justify_items": null,
      "left": null,
      "margin": null,
      "max_height": null,
      "max_width": null,
      "min_height": null,
      "min_width": null,
      "object_fit": null,
      "object_position": null,
      "order": null,
      "overflow": null,
      "overflow_x": null,
      "overflow_y": null,
      "padding": null,
      "right": null,
      "top": null,
      "visibility": null,
      "width": null
     }
    },
    "d2270e44d1a549df98f3bbb27aef92a4": {
     "model_module": "@jupyter-widgets/base",
     "model_module_version": "1.2.0",
     "model_name": "LayoutModel",
     "state": {
      "_model_module": "@jupyter-widgets/base",
      "_model_module_version": "1.2.0",
      "_model_name": "LayoutModel",
      "_view_count": null,
      "_view_module": "@jupyter-widgets/base",
      "_view_module_version": "1.2.0",
      "_view_name": "LayoutView",
      "align_content": null,
      "align_items": null,
      "align_self": null,
      "border": null,
      "bottom": null,
      "display": null,
      "flex": null,
      "flex_flow": null,
      "grid_area": null,
      "grid_auto_columns": null,
      "grid_auto_flow": null,
      "grid_auto_rows": null,
      "grid_column": null,
      "grid_gap": null,
      "grid_row": null,
      "grid_template_areas": null,
      "grid_template_columns": null,
      "grid_template_rows": null,
      "height": null,
      "justify_content": null,
      "justify_items": null,
      "left": null,
      "margin": null,
      "max_height": null,
      "max_width": null,
      "min_height": null,
      "min_width": null,
      "object_fit": null,
      "object_position": null,
      "order": null,
      "overflow": null,
      "overflow_x": null,
      "overflow_y": null,
      "padding": null,
      "right": null,
      "top": null,
      "visibility": null,
      "width": null
     }
    },
    "d42e73bccd4f460e84c76dd0ffbb125c": {
     "model_module": "@jupyter-widgets/base",
     "model_module_version": "1.2.0",
     "model_name": "LayoutModel",
     "state": {
      "_model_module": "@jupyter-widgets/base",
      "_model_module_version": "1.2.0",
      "_model_name": "LayoutModel",
      "_view_count": null,
      "_view_module": "@jupyter-widgets/base",
      "_view_module_version": "1.2.0",
      "_view_name": "LayoutView",
      "align_content": null,
      "align_items": null,
      "align_self": null,
      "border": null,
      "bottom": null,
      "display": null,
      "flex": null,
      "flex_flow": null,
      "grid_area": null,
      "grid_auto_columns": null,
      "grid_auto_flow": null,
      "grid_auto_rows": null,
      "grid_column": null,
      "grid_gap": null,
      "grid_row": null,
      "grid_template_areas": null,
      "grid_template_columns": null,
      "grid_template_rows": null,
      "height": null,
      "justify_content": null,
      "justify_items": null,
      "left": null,
      "margin": null,
      "max_height": null,
      "max_width": null,
      "min_height": null,
      "min_width": null,
      "object_fit": null,
      "object_position": null,
      "order": null,
      "overflow": null,
      "overflow_x": null,
      "overflow_y": null,
      "padding": null,
      "right": null,
      "top": null,
      "visibility": null,
      "width": null
     }
    },
    "dd6583034cfa461cb504e4d6a2261a9e": {
     "model_module": "@jupyter-widgets/controls",
     "model_module_version": "1.5.0",
     "model_name": "ProgressStyleModel",
     "state": {
      "_model_module": "@jupyter-widgets/controls",
      "_model_module_version": "1.5.0",
      "_model_name": "ProgressStyleModel",
      "_view_count": null,
      "_view_module": "@jupyter-widgets/base",
      "_view_module_version": "1.2.0",
      "_view_name": "StyleView",
      "bar_color": null,
      "description_width": ""
     }
    },
    "e66ab1d288494e849909ae5304cc9377": {
     "model_module": "@jupyter-widgets/controls",
     "model_module_version": "1.5.0",
     "model_name": "DescriptionStyleModel",
     "state": {
      "_model_module": "@jupyter-widgets/controls",
      "_model_module_version": "1.5.0",
      "_model_name": "DescriptionStyleModel",
      "_view_count": null,
      "_view_module": "@jupyter-widgets/base",
      "_view_module_version": "1.2.0",
      "_view_name": "StyleView",
      "description_width": ""
     }
    },
    "e977c0f473554585903fbfabb10e3f29": {
     "model_module": "@jupyter-widgets/controls",
     "model_module_version": "1.5.0",
     "model_name": "DescriptionStyleModel",
     "state": {
      "_model_module": "@jupyter-widgets/controls",
      "_model_module_version": "1.5.0",
      "_model_name": "DescriptionStyleModel",
      "_view_count": null,
      "_view_module": "@jupyter-widgets/base",
      "_view_module_version": "1.2.0",
      "_view_name": "StyleView",
      "description_width": ""
     }
    },
    "ff2b24032bae4be5a4d4cae835f697be": {
     "model_module": "@jupyter-widgets/controls",
     "model_module_version": "1.5.0",
     "model_name": "HBoxModel",
     "state": {
      "_dom_classes": [],
      "_model_module": "@jupyter-widgets/controls",
      "_model_module_version": "1.5.0",
      "_model_name": "HBoxModel",
      "_view_count": null,
      "_view_module": "@jupyter-widgets/controls",
      "_view_module_version": "1.5.0",
      "_view_name": "HBoxView",
      "box_style": "",
      "children": [
       "IPY_MODEL_5d736b4feec8425b89158293adaf0bd1",
       "IPY_MODEL_401064bbff8b4583bc862e7a63620e9d",
       "IPY_MODEL_076437b05e054c1fb1d4b6babba8129d"
      ],
      "layout": "IPY_MODEL_d42e73bccd4f460e84c76dd0ffbb125c"
     }
    },
    "ffe3cb40f870406fb811fd1cd70f1a1e": {
     "model_module": "@jupyter-widgets/controls",
     "model_module_version": "1.5.0",
     "model_name": "DescriptionStyleModel",
     "state": {
      "_model_module": "@jupyter-widgets/controls",
      "_model_module_version": "1.5.0",
      "_model_name": "DescriptionStyleModel",
      "_view_count": null,
      "_view_module": "@jupyter-widgets/base",
      "_view_module_version": "1.2.0",
      "_view_name": "StyleView",
      "description_width": ""
     }
    }
   }
  }
 },
 "nbformat": 4,
 "nbformat_minor": 5
}
